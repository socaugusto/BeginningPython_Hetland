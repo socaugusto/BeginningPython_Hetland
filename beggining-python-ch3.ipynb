{
 "cells": [
  {
   "cell_type": "markdown",
   "metadata": {},
   "source": [
    "# Working with strings"
   ]
  },
  {
   "cell_type": "code",
   "execution_count": 3,
   "metadata": {},
   "outputs": [
    {
     "name": "stdout",
     "output_type": "stream",
     "text": [
      "Hello world. Hot enough for ya?\n"
     ]
    }
   ],
   "source": [
    "format = \"Hello %s. %s enough for ya?\"\n",
    "values = ('world', 'Hot')\n",
    "print(format % values)"
   ]
  },
  {
   "cell_type": "code",
   "execution_count": 11,
   "metadata": {},
   "outputs": [
    {
     "data": {
      "text/plain": [
       "'Hello, Mars! Dusty enough for ya?'"
      ]
     },
     "execution_count": 11,
     "metadata": {},
     "output_type": "execute_result"
    }
   ],
   "source": [
    "from string import Template\n",
    "tmpl = Template(\"Hello, $who! $what enough for ya?\")\n",
    "tmpl.substitute(who='Mars', what='Dusty')"
   ]
  },
  {
   "cell_type": "code",
   "execution_count": 13,
   "metadata": {},
   "outputs": [
    {
     "name": "stdout",
     "output_type": "stream",
     "text": [
      "first, second and third\n",
      "first, second and third\n"
     ]
    }
   ],
   "source": [
    "print(\"{}, {} and {}\".format(\"first\", \"second\", \"third\"))\n",
    "print(\"{0}, {1} and {2}\".format(\"first\", \"second\", \"third\"))"
   ]
  },
  {
   "cell_type": "code",
   "execution_count": 15,
   "metadata": {},
   "outputs": [
    {
     "name": "stdout",
     "output_type": "stream",
     "text": [
      "π is approximately 3.14.\n"
     ]
    }
   ],
   "source": [
    "from math import pi\n",
    "print(\"{name} is approximately {value:.2f}.\".format(value=pi, name=\"π\"))"
   ]
  },
  {
   "cell_type": "markdown",
   "metadata": {},
   "source": [
    "## F-strings"
   ]
  },
  {
   "cell_type": "code",
   "execution_count": 16,
   "metadata": {},
   "outputs": [
    {
     "name": "stdout",
     "output_type": "stream",
     "text": [
      "Euler's constant is roughly 2.718281828459045\n"
     ]
    }
   ],
   "source": [
    "from math import e\n",
    "print(f\"Euler's constant is roughly {e}\")\n"
   ]
  },
  {
   "cell_type": "markdown",
   "metadata": {},
   "source": [
    "## String formatting: Long explanation"
   ]
  },
  {
   "cell_type": "code",
   "execution_count": 18,
   "metadata": {},
   "outputs": [
    {
     "name": "stdout",
     "output_type": "stream",
     "text": [
      "Mr Smoketoomuch\n"
     ]
    },
    {
     "data": {
      "text/plain": [
       "'The math module defines the value 3.141592653589793 for π'"
      ]
     },
     "execution_count": 18,
     "metadata": {},
     "output_type": "execute_result"
    }
   ],
   "source": [
    "fullname = [\"Alfred\", \"Smoketoomuch\"]\n",
    "print(\"Mr {name[1]}\".format(name=fullname))\n",
    "import math\n",
    "tmpl=\"The {mod.__name__} module defines the value {mod.pi} for π\"\n",
    "tmpl.format(mod=math)"
   ]
  },
  {
   "cell_type": "code",
   "execution_count": 19,
   "metadata": {},
   "outputs": [
    {
     "name": "stdout",
     "output_type": "stream",
     "text": [
      "π 'π' '\\u03c0'\n"
     ]
    }
   ],
   "source": [
    "print(\"{pi!s} {pi!r} {pi!a}\".format(pi=\"π\"))"
   ]
  },
  {
   "cell_type": "code",
   "execution_count": 21,
   "metadata": {},
   "outputs": [
    {
     "name": "stdout",
     "output_type": "stream",
     "text": [
      "The number is 42\n",
      "The number is 42.000000\n",
      "The number is 101010\n"
     ]
    }
   ],
   "source": [
    "print(\"The number is {num}\".format(num=42))\n",
    "print(\"The number is {num:f}\".format(num=42))\n",
    "print(\"The number is {num:b}\".format(num=42))\n"
   ]
  },
  {
   "cell_type": "code",
   "execution_count": 27,
   "metadata": {},
   "outputs": [
    {
     "name": "stdout",
     "output_type": "stream",
     "text": [
      "         3\n",
      "Bob       \n",
      "Pi day is 3.14\n",
      "Guido\n",
      "One googol is 10,000,000,000,000,000,000,000,000,000,000,000,000,000,000,000,000,000,000,000,000,000,000,000,000,000,000,000,000,000,000,000,000,000\n"
     ]
    }
   ],
   "source": [
    "print(\"{num:10}\".format(num=3))\n",
    "print(\"{name:10}\".format(name=\"Bob\"))\n",
    "print(\"Pi day is {pi:.2f}\".format(pi=pi))\n",
    "print(\"{:.5}\".format(\"Guido van Rossum\"))\n",
    "print('One googol is {:,}'.format(10**100))\n"
   ]
  },
  {
   "cell_type": "code",
   "execution_count": 43,
   "metadata": {},
   "outputs": [
    {
     "name": "stdout",
     "output_type": "stream",
     "text": [
      "0000003.14\n",
      "3.14      \n",
      "   3.14   \n",
      "      3.14\n",
      "$$$$$ WIN BIG $$$$$\n",
      "      3.14\n",
      "     -3.14\n",
      "      3.14\n",
      "-     3.14\n",
      "+3.1\n",
      "-3.1\n",
      " 3.1\n",
      "-3.1\n",
      "101010\n",
      "0b101010\n"
     ]
    }
   ],
   "source": [
    "print('{:010.2f}'.format(pi))\n",
    "print('{0:<10.2f}\\n{0:^10.2f}\\n{0:>10.2f}'.format(pi))\n",
    "print(\"{:$^19}\".format(\" WIN BIG \"))\n",
    "print('{0:10.2f}\\n{1:10.2f}'.format(pi, -pi))\n",
    "print('{0:10.2f}\\n{1:=10.2f}'.format(pi, -pi))\n",
    "print('{0:+.2}\\n{1:+.2}'.format(pi, -pi))\n",
    "print('{0: .2}\\n{1: .2}'.format(pi, -pi))\n",
    "print(\"{:b}\".format(42))\n",
    "print(\"{:#b}\".format(42))\n"
   ]
  },
  {
   "cell_type": "code",
   "execution_count": 45,
   "metadata": {},
   "outputs": [
    {
     "name": "stdout",
     "output_type": "stream",
     "text": [
      "========================================\n",
      "Item                               Price\n",
      "----------------------------------------\n",
      "Apples                              0.40\n",
      "Pears                               0.50\n",
      "Cantaloupes                         1.92\n",
      "Dried Apricots (16 oz.)             8.00\n",
      "Prunes (4 lbs.)                    12.00\n",
      "========================================\n"
     ]
    }
   ],
   "source": [
    "# Print a formatted price list with a given width\n",
    "\n",
    "width = int(input('Please enter width: '))\n",
    "\n",
    "price_width = 10\n",
    "item_width  = width - price_width\n",
    "\n",
    "header_fmt = '{{:{}}}{{:>{}}}'.format(item_width, price_width)\n",
    "fmt        = '{{:{}}}{{:>{}.2f}}'.format(item_width, price_width)\n",
    "\n",
    "print('=' * width)\n",
    "\n",
    "print(header_fmt.format('Item', 'Price'))\n",
    "\n",
    "print('-' * width)\n",
    "\n",
    "print(fmt.format('Apples', 0.4))\n",
    "print(fmt.format('Pears', 0.5))\n",
    "print(fmt.format('Cantaloupes', 1.92))\n",
    "print(fmt.format('Dried Apricots (16 oz.)', 8))\n",
    "print(fmt.format('Prunes (4 lbs.)', 12))\n",
    "\n",
    "print('=' * width)"
   ]
  },
  {
   "cell_type": "code",
   "execution_count": 47,
   "metadata": {},
   "outputs": [
    {
     "name": "stdout",
     "output_type": "stream",
     "text": [
      "0123456789\n",
      "abcdefghijklmnopqrstuvwxyzABCDEFGHIJKLMNOPQRSTUVWXYZ\n"
     ]
    }
   ],
   "source": [
    "from string import digits\n",
    "from string import ascii_letters\n",
    "print(digits)\n",
    "print(ascii_letters)"
   ]
  },
  {
   "cell_type": "code",
   "execution_count": 49,
   "metadata": {},
   "outputs": [
    {
     "name": "stdout",
     "output_type": "stream",
     "text": [
      "     The Middle by Jimmy Eat World     \n",
      "*****The Middle by Jimmy Eat World*****\n"
     ]
    }
   ],
   "source": [
    "print(\"The Middle by Jimmy Eat World\".center(39))\n",
    "print(\"The Middle by Jimmy Eat World\".center(39, \"*\"))"
   ]
  },
  {
   "cell_type": "code",
   "execution_count": 52,
   "metadata": {},
   "outputs": [
    {
     "name": "stdout",
     "output_type": "stream",
     "text": [
      "7\n",
      "0\n",
      "6\n"
     ]
    }
   ],
   "source": [
    "print('With a moo-moo here, and a moo-moo there'.find('moo'))\n",
    "title = \"Monty Python's Flying Circus\"\n",
    "print(title.find('Monty'))\n",
    "print(title.find('Python'))"
   ]
  },
  {
   "cell_type": "code",
   "execution_count": 58,
   "metadata": {},
   "outputs": [
    {
     "name": "stdout",
     "output_type": "stream",
     "text": [
      "1+2+3+4+5\n",
      "/usr/bin/env\n"
     ]
    }
   ],
   "source": [
    "sep = '+'\n",
    "seq = ['1', '2', '3', '4', '5']\n",
    "print(sep.join(seq))\n",
    "\n",
    "dirs='', 'usr', 'bin', 'env'\n",
    "print('/'.join(dirs))\n"
   ]
  },
  {
   "cell_type": "code",
   "execution_count": 59,
   "metadata": {},
   "outputs": [
    {
     "name": "stdout",
     "output_type": "stream",
     "text": [
      "trondheim hammer dance\n"
     ]
    }
   ],
   "source": [
    "print('Trondheim Hammer Dance'.lower())"
   ]
  },
  {
   "cell_type": "code",
   "execution_count": 64,
   "metadata": {},
   "outputs": [
    {
     "name": "stdout",
     "output_type": "stream",
     "text": [
      "Not Found\n",
      "Found it!\n"
     ]
    }
   ],
   "source": [
    "if 'Gumby' in ['gumby', 'smith', 'jones']:\n",
    "    print('Found it!')\n",
    "else:\n",
    "    print('Not Found')\n",
    "\n",
    "\n",
    "name = 'Gumby'\n",
    "names = ['gumby', 'smith', 'jones']\n",
    "if name.lower() in names: \n",
    "    print('Found it!')\n",
    "\n"
   ]
  },
  {
   "cell_type": "code",
   "execution_count": 65,
   "metadata": {},
   "outputs": [
    {
     "name": "stdout",
     "output_type": "stream",
     "text": [
      "That'S All Folks\n",
      "That's All, Folks\n"
     ]
    }
   ],
   "source": [
    "import string\n",
    "print(\"that's all folks\".title())\n",
    "print(string.capwords(\"that's all, folks\"))\n"
   ]
  },
  {
   "cell_type": "code",
   "execution_count": 66,
   "metadata": {},
   "outputs": [
    {
     "name": "stdout",
     "output_type": "stream",
     "text": [
      "Theez eez a test\n"
     ]
    }
   ],
   "source": [
    "print('This is a test'.replace('is', 'eez'))"
   ]
  },
  {
   "cell_type": "code",
   "execution_count": 67,
   "metadata": {},
   "outputs": [
    {
     "name": "stdout",
     "output_type": "stream",
     "text": [
      "['1', '2', '3', '4', '5']\n",
      "['', 'usr', 'bin', 'env']\n",
      "['Using', 'the', 'default']\n"
     ]
    }
   ],
   "source": [
    "print('1+2+3+4+5'.split('+'))\n",
    "print('/usr/bin/env'.split('/'))\n",
    "print('Using the default'.split())\n"
   ]
  },
  {
   "cell_type": "code",
   "execution_count": 70,
   "metadata": {},
   "outputs": [
    {
     "name": "stdout",
     "output_type": "stream",
     "text": [
      "internal whitespace is kept\n",
      "Found it!\n",
      "SPAM * for * everyone\n"
     ]
    }
   ],
   "source": [
    "print(' internal whitespace is kept '.strip())\n",
    "\n",
    "names = ['gumby', 'smith', 'jones']\n",
    "name = 'gumby '\n",
    "\n",
    "if name in names: \n",
    "    print('Found it!')\n",
    "\n",
    "if name.strip() in names: \n",
    "    print('Found it!')\n",
    "\n",
    "print('*** SPAM * for * everyone!!! ***'.strip(' *!'))\n"
   ]
  },
  {
   "cell_type": "code",
   "execution_count": 76,
   "metadata": {},
   "outputs": [
    {
     "name": "stdout",
     "output_type": "stream",
     "text": [
      "{99: 107, 115: 122}\n",
      "thiz iz an inkredible tezt\n",
      "thizizaninkredibletezt\n"
     ]
    }
   ],
   "source": [
    "table = str.maketrans('cs', 'kz')\n",
    "print(repr(table))\n",
    "\n",
    "print('this is an incredible test'.translate(table))\n",
    "\n",
    "table = str.maketrans('cs', 'kz', ' ')\n",
    "print('this is an incredible test'.translate(table))\n"
   ]
  }
 ],
 "metadata": {
  "kernelspec": {
   "display_name": ".venv",
   "language": "python",
   "name": "python3"
  },
  "language_info": {
   "codemirror_mode": {
    "name": "ipython",
    "version": 3
   },
   "file_extension": ".py",
   "mimetype": "text/x-python",
   "name": "python",
   "nbconvert_exporter": "python",
   "pygments_lexer": "ipython3",
   "version": "3.10.12"
  }
 },
 "nbformat": 4,
 "nbformat_minor": 2
}
