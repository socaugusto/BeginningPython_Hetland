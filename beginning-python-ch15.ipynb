{
 "cells": [
  {
   "cell_type": "code",
   "execution_count": null,
   "metadata": {},
   "outputs": [],
   "source": [
    "from urllib.request import urlopen\n",
    "import re\n",
    "p = re.compile('<a href=\"(/jobs/\\\\d+)/\">(.*?)</a>')\n",
    "text = urlopen('http://python.org/jobs').read().decode()\n",
    "for url, name in p.findall(text):\n",
    "    print('{} ({})'.format(name, url))"
   ]
  },
  {
   "cell_type": "code",
   "execution_count": null,
   "metadata": {},
   "outputs": [],
   "source": [
    "%pip install pytidylib"
   ]
  },
  {
   "cell_type": "code",
   "execution_count": null,
   "metadata": {},
   "outputs": [],
   "source": [
    "from subprocess import Popen, PIPE\n",
    "\n",
    "text = open('messy.html').read()\n",
    "tidy = Popen('tidy', stdin=PIPE, stdout=PIPE, stderr=PIPE)\n",
    "\n",
    "tidy.stdin.write(text.encode())\n",
    "tidy.stdin.close()\n",
    "\n",
    "print(tidy.stdout.read().decode())"
   ]
  },
  {
   "cell_type": "code",
   "execution_count": null,
   "metadata": {},
   "outputs": [],
   "source": [
    "from urllib.request import urlopen\n",
    "from html.parser import HTMLParser\n",
    "\n",
    "def isjob(url):\n",
    "    try:\n",
    "        a, b, c, d = url.split('/')\n",
    "    except ValueError:\n",
    "        return False\n",
    "    return a == d == '' and b == 'jobs' and c.isdigit()\n",
    "\n",
    "class Scraper(HTMLParser):\n",
    "\n",
    "    in_link = False\n",
    "\n",
    "    def handle_starttag(self, tag, attrs):\n",
    "        attrs = dict(attrs)\n",
    "        url = attrs.get('href', '')\n",
    "        if tag == 'a' and isjob(url):\n",
    "            self.url = url\n",
    "            self.in_link = True\n",
    "            self.chunks = []\n",
    "    \n",
    "    def handle_data(self, data):\n",
    "        if self.in_link:\n",
    "            self.chunks.append(data)\n",
    "    \n",
    "    def handle_endtag(self, tag):\n",
    "        if tag == 'a' and self.in_link:\n",
    "            print('{} ({})'.format(''.join(self.chunks), self.url))\n",
    "            self.in_link = False\n",
    "\n",
    "text = urlopen('http://python.org/jobs').read().decode()\n",
    "parser = Scraper()\n",
    "parser.feed(text)\n",
    "parser.close()"
   ]
  },
  {
   "cell_type": "code",
   "execution_count": null,
   "metadata": {},
   "outputs": [],
   "source": [
    "%pip install beautifulsoup4\n"
   ]
  },
  {
   "cell_type": "code",
   "execution_count": null,
   "metadata": {},
   "outputs": [],
   "source": [
    "from urllib.request import urlopen\n",
    "from bs4 import BeautifulSoup\n",
    "\n",
    "text = urlopen('http://python.org/jobs').read()\n",
    "soup = BeautifulSoup(text, 'html.parser')\n",
    "\n",
    "jobs = set()\n",
    "for job in soup.body.section('h2'):\n",
    "    jobs.add('{} ({})'.format(job.a.string, job.a['href']))\n",
    "    \n",
    "print('\\n'.join(sorted(jobs, key=str.lower)))"
   ]
  },
  {
   "cell_type": "markdown",
   "metadata": {},
   "source": [
    "python -m http.server --cgi\n"
   ]
  },
  {
   "cell_type": "code",
   "execution_count": null,
   "metadata": {},
   "outputs": [],
   "source": [
    "%pip install flask"
   ]
  },
  {
   "cell_type": "code",
   "execution_count": null,
   "metadata": {},
   "outputs": [],
   "source": [
    "from flask import Flask\n",
    "import threading\n",
    "import time\n",
    "\n",
    "def powers(n=10):\n",
    "    return ', '.join(str(2**i) for i in range(n))\n",
    "\n",
    "app = Flask(__name__)\n",
    "\n",
    "@app.route('/')\n",
    "def powers(n=10):\n",
    "    return ', '.join(str(2**i) for i in range(n))\n",
    "\n",
    "# instead of\n",
    "# export FLASK_APP=powers.py\n",
    "# flask run\n",
    "# do this:\n",
    "\n",
    "def run_flask():\n",
    "    app.run()\n",
    "\n",
    "# Start the Flask app in a new thread\n",
    "flask_thread = threading.Thread(target=run_flask)\n",
    "flask_thread.daemon = True\n",
    "flask_thread.start()\n",
    "\n",
    "# Give the server a moment to start\n",
    "time.sleep(1)\n",
    "\n",
    "print(\"Flask app is running...\")\n",
    "\n"
   ]
  }
 ],
 "metadata": {
  "kernelspec": {
   "display_name": ".venv",
   "language": "python",
   "name": "python3"
  },
  "language_info": {
   "codemirror_mode": {
    "name": "ipython",
    "version": 3
   },
   "file_extension": ".py",
   "mimetype": "text/x-python",
   "name": "python",
   "nbconvert_exporter": "python",
   "pygments_lexer": "ipython3",
   "version": "3.10.12"
  }
 },
 "nbformat": 4,
 "nbformat_minor": 2
}
