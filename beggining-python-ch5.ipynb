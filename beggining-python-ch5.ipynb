{
 "cells": [
  {
   "cell_type": "markdown",
   "metadata": {},
   "source": [
    "# Conditionals, Loops, and Some Other Statements"
   ]
  },
  {
   "cell_type": "code",
   "execution_count": 1,
   "metadata": {},
   "outputs": [
    {
     "name": "stdout",
     "output_type": "stream",
     "text": [
      "Age: 42\n",
      "Hello, Mr. Gumby\n"
     ]
    }
   ],
   "source": [
    "print('Age:', 42)\n",
    "\n",
    "name = 'Gumby'\n",
    "salutation = 'Mr.'\n",
    "greeting = 'Hello,'\n",
    "print(greeting, salutation, name)"
   ]
  },
  {
   "cell_type": "code",
   "execution_count": 2,
   "metadata": {},
   "outputs": [
    {
     "name": "stdout",
     "output_type": "stream",
     "text": [
      "I_wish_to_register_a_complaint\n"
     ]
    }
   ],
   "source": [
    "print(\"I\",\"wish\", \"to\", \"register\", \"a\", \"complaint\", sep=\"_\")"
   ]
  },
  {
   "cell_type": "code",
   "execution_count": 4,
   "metadata": {},
   "outputs": [
    {
     "name": "stdout",
     "output_type": "stream",
     "text": [
      "2.0\n",
      "2.0\n"
     ]
    }
   ],
   "source": [
    "import math as foobar\n",
    "from math import sqrt as buzzword\n",
    "print(foobar.sqrt(4))\n",
    "print(buzzword(4))"
   ]
  },
  {
   "cell_type": "code",
   "execution_count": 5,
   "metadata": {},
   "outputs": [
    {
     "name": "stdout",
     "output_type": "stream",
     "text": [
      "girlfriend\n",
      "Marion\n"
     ]
    }
   ],
   "source": [
    "scoundrel = {'name':'Robin', 'girlfriend': 'Marion'}\n",
    "key,value = scoundrel.popitem()\n",
    "print(key)\n",
    "print(value)"
   ]
  },
  {
   "cell_type": "code",
   "execution_count": 6,
   "metadata": {},
   "outputs": [
    {
     "name": "stdout",
     "output_type": "stream",
     "text": [
      "[3, 4]\n"
     ]
    }
   ],
   "source": [
    "a, b, *rest = [1, 2, 3, 4]\n",
    "print(rest)"
   ]
  },
  {
   "cell_type": "code",
   "execution_count": 7,
   "metadata": {},
   "outputs": [
    {
     "name": "stdout",
     "output_type": "stream",
     "text": [
      "['Percival', 'Wulfric', 'Brian']\n"
     ]
    }
   ],
   "source": [
    "name = \"Albus Percival Wulfric Brian Dumbledore\"\n",
    "first, *middle, last = name.split()\n",
    "print(middle)"
   ]
  },
  {
   "cell_type": "code",
   "execution_count": 9,
   "metadata": {},
   "outputs": [
    {
     "name": "stdout",
     "output_type": "stream",
     "text": [
      "Hello, Mr. Gumby\n"
     ]
    }
   ],
   "source": [
    "name = input('What is your name?')\n",
    "if name.endswith('Gumby'):\n",
    "    print('Hello, Mr. Gumby')\n",
    "else:\n",
    "    print('Hello, stranger')"
   ]
  },
  {
   "cell_type": "code",
   "execution_count": 10,
   "metadata": {},
   "outputs": [
    {
     "data": {
      "text/plain": [
       "'🙈'"
      ]
     },
     "execution_count": 10,
     "metadata": {},
     "output_type": "execute_result"
    }
   ],
   "source": [
    "chr(128584)"
   ]
  },
  {
   "cell_type": "code",
   "execution_count": 13,
   "metadata": {},
   "outputs": [
    {
     "name": "stdout",
     "output_type": "stream",
     "text": [
      "Who the fuck are you?\n"
     ]
    }
   ],
   "source": [
    "name = input(\"Give me your name: \")\n",
    "if \"Silvio\" in name:\n",
    "    print(\"You're the man\")\n",
    "elif \"Marianne\" in name:\n",
    "    print(\"Hello my cute girl\")\n",
    "else:\n",
    "    print(\"Who the fuck are you?\")"
   ]
  },
  {
   "cell_type": "code",
   "execution_count": 17,
   "metadata": {},
   "outputs": [
    {
     "name": "stdout",
     "output_type": "stream",
     "text": [
      "1\n",
      "2\n",
      "3\n",
      "4\n",
      "5\n",
      "6\n",
      "7\n",
      "8\n",
      "9\n",
      "10\n"
     ]
    }
   ],
   "source": [
    "x = 1\n",
    "while x <= 10:\n",
    "    print(x)\n",
    "    x += 1"
   ]
  },
  {
   "cell_type": "code",
   "execution_count": 18,
   "metadata": {},
   "outputs": [
    {
     "name": "stdout",
     "output_type": "stream",
     "text": [
      "Hello, Silvio!\n"
     ]
    }
   ],
   "source": [
    "name = ''\n",
    "while not name:\n",
    "    name = input('Please enter your name: ')\n",
    "print('Hello, {}!'.format(name))"
   ]
  },
  {
   "cell_type": "code",
   "execution_count": 19,
   "metadata": {},
   "outputs": [
    {
     "name": "stdout",
     "output_type": "stream",
     "text": [
      "this\n",
      "is\n",
      "an\n",
      "ex\n",
      "parrot\n",
      "0\n",
      "1\n",
      "2\n",
      "3\n",
      "4\n",
      "5\n",
      "6\n",
      "7\n",
      "8\n",
      "9\n"
     ]
    }
   ],
   "source": [
    "words = ['this', 'is', 'an', 'ex', 'parrot']\n",
    "for word in words:\n",
    "    print(word)\n",
    "\n",
    "numbers = [0, 1, 2, 3, 4, 5, 6, 7, 8, 9]\n",
    "for number in numbers:\n",
    "    print(number)"
   ]
  },
  {
   "cell_type": "code",
   "execution_count": 22,
   "metadata": {},
   "outputs": [
    {
     "name": "stdout",
     "output_type": "stream",
     "text": [
      "1\n",
      "2\n",
      "3\n",
      "4\n",
      "5\n",
      "6\n",
      "7\n",
      "8\n",
      "9\n",
      "10\n"
     ]
    }
   ],
   "source": [
    "for number in range(1,11):\n",
    "    print(number)"
   ]
  },
  {
   "cell_type": "code",
   "execution_count": 24,
   "metadata": {},
   "outputs": [
    {
     "name": "stdout",
     "output_type": "stream",
     "text": [
      "x corresponds to 1\n",
      "y corresponds to 2\n",
      "z corresponds to 3\n",
      "x corresponds to 1\n",
      "y corresponds to 2\n",
      "z corresponds to 3\n"
     ]
    }
   ],
   "source": [
    "d = {'x': 1, 'y': 2, 'z': 3}\n",
    "for key in d:\n",
    "    print(key, 'corresponds to', d[key])\n",
    "\n",
    "for key, value in d.items():\n",
    "    print(key, 'corresponds to', value)"
   ]
  },
  {
   "cell_type": "code",
   "execution_count": 26,
   "metadata": {},
   "outputs": [
    {
     "name": "stdout",
     "output_type": "stream",
     "text": [
      "anne is 12 years old\n",
      "beth is 45 years old\n",
      "george is 32 years old\n",
      "damon is 102 years old\n",
      "anne is 12 years old\n",
      "beth is 45 years old\n",
      "george is 32 years old\n",
      "damon is 102 years old\n"
     ]
    }
   ],
   "source": [
    "names = ['anne', 'beth', 'george', 'damon']\n",
    "ages = [12, 45, 32, 102]\n",
    "\n",
    "for i in range(len(names)):\n",
    "    print(names[i], 'is', ages[i], 'years old')\n",
    "\n",
    "for name, age in zip(names, ages):\n",
    "    print(name, 'is', age, 'years old')\n"
   ]
  },
  {
   "cell_type": "code",
   "execution_count": 35,
   "metadata": {},
   "outputs": [
    {
     "name": "stdout",
     "output_type": "stream",
     "text": [
      "['Hello', 'World', '[censored]']\n",
      "['Hello', 'World', '[censored]']\n",
      "['Hello', 'World', '[censored]']\n"
     ]
    }
   ],
   "source": [
    "strings = [\"Hello\", \"World\", \"This is a XXX string\"]\n",
    "for string in strings:\n",
    "    if 'XXX' in string:\n",
    "        index = strings.index(string) # Search for the string in the list of strings\n",
    "        strings[index] = '[censored]'\n",
    "print(strings)\n",
    "\n",
    "strings = [\"Hello\", \"World\", \"This is a XXX string\"]\n",
    "index = 0\n",
    "for string in strings:\n",
    "    if 'XXX' in string:\n",
    "        strings[index] = '[censored]'\n",
    "    index += 1\n",
    "print(strings)\n",
    "\n",
    "strings = [\"Hello\", \"World\", \"This is a XXX string\"]\n",
    "for index, string in enumerate(strings):\n",
    "    if 'XXX' in string:\n",
    "        strings[index] = '[censored]'\n",
    "print(strings)"
   ]
  },
  {
   "cell_type": "code",
   "execution_count": 4,
   "metadata": {},
   "outputs": [
    {
     "name": "stdout",
     "output_type": "stream",
     "text": [
      "[3, 3, 4, 6, 8]\n",
      "[' ', '!', ',', 'H', 'W', 'd', 'e', 'l', 'l', 'l', 'o', 'o', 'r']\n",
      "['!', 'd', 'l', 'r', 'o', 'w', ' ', ',', 'o', 'l', 'l', 'e', 'H']\n",
      "!dlrow ,olleH\n"
     ]
    }
   ],
   "source": [
    "print(sorted([4,3,6,8,3]))\n",
    "\n",
    "print(sorted('Hello, World!'))\n",
    "\n",
    "print(list(reversed('Hello, world!')))\n",
    "\n",
    "print(''.join(reversed('Hello, world!')))"
   ]
  },
  {
   "cell_type": "code",
   "execution_count": 5,
   "metadata": {},
   "outputs": [
    {
     "name": "stdout",
     "output_type": "stream",
     "text": [
      "81\n"
     ]
    }
   ],
   "source": [
    "from math import sqrt\n",
    "for n in range(99, 0, -1):\n",
    "    root = sqrt(n)\n",
    "    if root == int(root):\n",
    "        print(n)\n",
    "        break"
   ]
  },
  {
   "cell_type": "code",
   "execution_count": 6,
   "metadata": {},
   "outputs": [
    {
     "name": "stdout",
     "output_type": "stream",
     "text": [
      "The word was  Silvio\n",
      "The word was  Marianne\n"
     ]
    }
   ],
   "source": [
    "while True:\n",
    "    word = input('Please enter a word: ')\n",
    "    if not word: \n",
    "        break\n",
    "    # do something with the word:\n",
    "    print('The word was ', word)"
   ]
  },
  {
   "cell_type": "code",
   "execution_count": 7,
   "metadata": {},
   "outputs": [
    {
     "name": "stdout",
     "output_type": "stream",
     "text": [
      "Didn't find it!\n"
     ]
    }
   ],
   "source": [
    "from math import sqrt\n",
    "for n in range(99, 81, -1):\n",
    "    root = sqrt(n)\n",
    "    if root == int(root):\n",
    "        print(n)\n",
    "        break\n",
    "else:\n",
    "    print(\"Didn't find it!\")"
   ]
  },
  {
   "cell_type": "code",
   "execution_count": 13,
   "metadata": {},
   "outputs": [
    {
     "name": "stdout",
     "output_type": "stream",
     "text": [
      "[0, 1, 4, 9, 16, 25, 36, 49, 64, 81]\n",
      "[0, 9, 36, 81]\n",
      "[(0, 0), (0, 1), (0, 2), (1, 0), (1, 1), (1, 2), (2, 0), (2, 1), (2, 2)]\n",
      "['chris+clarice', 'arnold+alice', 'bob+bernice']\n",
      "['chris+clarice', 'arnold+alice', 'bob+bernice']\n"
     ]
    }
   ],
   "source": [
    "print([x * x for x in range(10)])\n",
    "\n",
    "print([x*x for x in range(10) if x % 3 == 0])\n",
    "\n",
    "print([(x, y) for x in range(3) for y in range(3)])\n",
    "\n",
    "girls = ['alice', 'bernice', 'clarice']\n",
    "boys = ['chris', 'arnold', 'bob']\n",
    "print([b+'+'+g for b in boys for g in girls if b[0] == g[0]])\n",
    "\n",
    "girls = ['alice', 'bernice', 'clarice']\n",
    "boys = ['chris', 'arnold', 'bob']\n",
    "letterGirls = {}\n",
    "for girl in girls:\n",
    "    letterGirls.setdefault(girl[0], []).append(girl)\n",
    "print([b+'+'+g for b in boys for g in letterGirls[b[0]]])"
   ]
  },
  {
   "cell_type": "code",
   "execution_count": 16,
   "metadata": {},
   "outputs": [],
   "source": [
    "# Do nothing\n",
    "name = input()\n",
    "if name == 'Ralph Auldus Melish':\n",
    "    print('Welcome!')\n",
    "elif name == 'Enid':\n",
    "    # Not finished yet ...\n",
    "    pass\n",
    "elif name == 'Bill Gates':\n",
    "    print('Access Denied')\n",
    "\n"
   ]
  },
  {
   "cell_type": "code",
   "execution_count": 17,
   "metadata": {},
   "outputs": [
    {
     "name": "stdout",
     "output_type": "stream",
     "text": [
      "Hello, world!\n"
     ]
    }
   ],
   "source": [
    "# Execute a string\n",
    "exec(\"print('Hello, world!')\")\n",
    "\n"
   ]
  },
  {
   "cell_type": "code",
   "execution_count": 18,
   "metadata": {},
   "outputs": [
    {
     "data": {
      "text/plain": [
       "5"
      ]
     },
     "execution_count": 18,
     "metadata": {},
     "output_type": "execute_result"
    }
   ],
   "source": [
    "# Evaluate an expression\n",
    "eval(input(\"Enter an arithmetic expression: \"))"
   ]
  },
  {
   "cell_type": "code",
   "execution_count": 22,
   "metadata": {},
   "outputs": [
    {
     "name": "stdout",
     "output_type": "stream",
     "text": [
      "2.0\n",
      "6\n"
     ]
    }
   ],
   "source": [
    "from math import sqrt\n",
    "scope = {}\n",
    "exec('sqrt = 1', scope)\n",
    "print(sqrt(4))\n",
    "\n",
    "scope['x'] = 2\n",
    "scope['y'] = 3\n",
    "print(eval('x * y', scope))"
   ]
  },
  {
   "cell_type": "raw",
   "metadata": {},
   "source": [
    "chr(n)                                      Returns a one-character string when passed ordinal n (0 ≤ n < 256)\n",
    "eval(source[, globals[, locals]])           Evaluates a string as an expression and returns the value\n",
    "exec(source[, globals[, locals]])           Evaluates and executes a string as a statement\n",
    "enumerate(seq)                              Yields (index, value) pairs suitable for iteration\n",
    "ord(c)                                      Returns the integer ordinal value of a one-character string\n",
    "range([start,] stop[, step])                Creates a list of integers\n",
    "reversed(seq)                               Yields the values of seq in reverse order, suitable for iteration\n",
    "sorted(seq[, cmp][, key][, reverse])        Returns a list with the values of seq in sorted order\n",
    "xrange([start,] stop[, step])               Creates an xrange object, used for iteration\n",
    "zip(seq1, seq2,…)                           Creates a new sequence suitable for parallel iteration"
   ]
  }
 ],
 "metadata": {
  "kernelspec": {
   "display_name": ".venv",
   "language": "python",
   "name": "python3"
  },
  "language_info": {
   "codemirror_mode": {
    "name": "ipython",
    "version": 3
   },
   "file_extension": ".py",
   "mimetype": "text/x-python",
   "name": "python",
   "nbconvert_exporter": "python",
   "pygments_lexer": "ipython3",
   "version": "3.10.12"
  }
 },
 "nbformat": 4,
 "nbformat_minor": 2
}
