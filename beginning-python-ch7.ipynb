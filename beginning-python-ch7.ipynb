{
 "cells": [
  {
   "cell_type": "code",
   "execution_count": 2,
   "metadata": {},
   "outputs": [
    {
     "name": "stdout",
     "output_type": "stream",
     "text": [
      "1\n"
     ]
    }
   ],
   "source": [
    "print('abc'.count('a'))"
   ]
  },
  {
   "cell_type": "code",
   "execution_count": 4,
   "metadata": {},
   "outputs": [
    {
     "name": "stdout",
     "output_type": "stream",
     "text": [
      "2\n"
     ]
    }
   ],
   "source": [
    "from random import choice\n",
    "x = choice(['Hello, world!', [1, 2, 'e', 'e', 4]])\n",
    "print(x.count('e'))"
   ]
  },
  {
   "cell_type": "code",
   "execution_count": 5,
   "metadata": {},
   "outputs": [
    {
     "name": "stdout",
     "output_type": "stream",
     "text": [
      "3\n",
      "Fishlicense\n",
      "Fishlicense\n",
      "The length of 'Fnord' is 5\n",
      "None\n",
      "The length of [1, 2, 3] is 3\n",
      "None\n"
     ]
    }
   ],
   "source": [
    "print(1 + 2)\n",
    "print('Fish' + 'license')\n",
    "\n",
    "def add(x,y):\n",
    "    return x + y\n",
    "\n",
    "print(add('Fish','license'))\n",
    "\n",
    "def length_message(x):\n",
    "    print(\"The length of\", repr(x), \"is\", len(x))\n",
    "\n",
    "print(length_message('Fnord'))\n",
    "print(length_message([1, 2, 3]))\n"
   ]
  },
  {
   "cell_type": "code",
   "execution_count": 8,
   "metadata": {},
   "outputs": [
    {
     "name": "stdout",
     "output_type": "stream",
     "text": [
      "Hello, world! I'm Luke Skywalker.\n",
      "Hello, world! I'm Anakin Skywalker.\n",
      "Hello, world! I'm Yoda.\n",
      "Hello, world! I'm Luke Skywalker.\n"
     ]
    }
   ],
   "source": [
    "class Person:\n",
    "\n",
    "    def set_name(self, name):\n",
    "        self.name = name\n",
    "\n",
    "    def get_name(self, name):\n",
    "        return self.name\n",
    "    \n",
    "    def greet(self):\n",
    "        print(\"Hello, world! I'm {}.\".format(self.name))\n",
    "\n",
    "    \n",
    "foo = Person()\n",
    "bar = Person()\n",
    "foo.set_name('Luke Skywalker')\n",
    "bar.set_name('Anakin Skywalker')\n",
    "foo.greet()\n",
    "bar.greet()\n",
    "\n",
    "bar.name = 'Yoda'\n",
    "bar.greet()\n",
    "Person.greet(foo)"
   ]
  },
  {
   "cell_type": "code",
   "execution_count": 9,
   "metadata": {},
   "outputs": [
    {
     "name": "stdout",
     "output_type": "stream",
     "text": [
      "Squaawk!\n",
      "Squaawk!\n"
     ]
    }
   ],
   "source": [
    "class Bird:\n",
    "    song = 'Squaawk!'\n",
    "    def sing(self):\n",
    "        print(self.song)\n",
    "\n",
    "bird = Bird()\n",
    "bird.sing()\n",
    "\n",
    "birdsong = bird.sing\n",
    "birdsong()"
   ]
  },
  {
   "cell_type": "code",
   "execution_count": 10,
   "metadata": {},
   "outputs": [
    {
     "name": "stdout",
     "output_type": "stream",
     "text": [
      "The secret message is:\n",
      "Bet you can't see me ...\n"
     ]
    }
   ],
   "source": [
    "class Secretive:\n",
    "    def __inaccessible(self):\n",
    "        print(\"Bet you can't see me ...\")\n",
    "    \n",
    "    def accessible(self):\n",
    "        print(\"The secret message is:\")\n",
    "        self.__inaccessible()\n",
    "\n",
    "s = Secretive()\n",
    "s.accessible()"
   ]
  },
  {
   "cell_type": "code",
   "execution_count": 11,
   "metadata": {},
   "outputs": [
    {
     "name": "stdout",
     "output_type": "stream",
     "text": [
      "4\n",
      "9\n"
     ]
    }
   ],
   "source": [
    "def foo(x): \n",
    "    return x * x\n",
    "\n",
    "foo2 = lambda x: x * x\n",
    "\n",
    "print(foo(2))\n",
    "print(foo2(3))"
   ]
  },
  {
   "cell_type": "code",
   "execution_count": 12,
   "metadata": {},
   "outputs": [
    {
     "name": "stdout",
     "output_type": "stream",
     "text": [
      "Class C being defined ...\n"
     ]
    }
   ],
   "source": [
    "class C:\n",
    "    print('Class C being defined ...')"
   ]
  },
  {
   "cell_type": "code",
   "execution_count": 14,
   "metadata": {},
   "outputs": [
    {
     "name": "stdout",
     "output_type": "stream",
     "text": [
      "1\n"
     ]
    },
    {
     "data": {
      "text/plain": [
       "2"
      ]
     },
     "execution_count": 14,
     "metadata": {},
     "output_type": "execute_result"
    }
   ],
   "source": [
    "class MemberCounter:\n",
    "    members = 0\n",
    "    def init(self):\n",
    "        MemberCounter.members += 1\n",
    "\n",
    "m1 = MemberCounter()\n",
    "m1.init()\n",
    "print(MemberCounter.members)\n",
    "\n",
    "m2 = MemberCounter()\n",
    "m2.init()\n",
    "print(MemberCounter.members)"
   ]
  },
  {
   "cell_type": "code",
   "execution_count": 24,
   "metadata": {},
   "outputs": [
    {
     "name": "stdout",
     "output_type": "stream",
     "text": [
      "[1, 2, 3]\n",
      "['eggs', 'bacon']\n",
      "True\n",
      "False\n",
      "True\n"
     ]
    },
    {
     "data": {
      "text/plain": [
       "__main__.SPAMFilter"
      ]
     },
     "execution_count": 24,
     "metadata": {},
     "output_type": "execute_result"
    }
   ],
   "source": [
    "class Filter:\n",
    "    def init(self):\n",
    "        self.blocked = []\n",
    "    def filter(self, sequence):\n",
    "        return [x for x in sequence if x not in self.blocked]\n",
    "\n",
    "class SPAMFilter(Filter): # SPAMFilter is a subclass of Filter\n",
    "    def init(self): # Overrides init method from Filter superclass\n",
    "        self.blocked = ['SPAM']\n",
    "\n",
    "f = Filter()\n",
    "f.init()\n",
    "print(f.filter([1,2,3]))\n",
    "\n",
    "s = SPAMFilter()\n",
    "s.init()\n",
    "print(s.filter(['SPAM', 'SPAM', 'SPAM', 'SPAM', 'eggs', 'bacon', 'SPAM']))\n",
    "\n",
    "\n",
    "print(issubclass(SPAMFilter, Filter))\n",
    "print(issubclass(Filter, SPAMFilter))\n",
    "\n",
    "print(isinstance(s, SPAMFilter))\n",
    "isinstance(s, Filter)\n",
    "isinstance(s, str)\n",
    "\n",
    "print(s.__class__)\n",
    "\n",
    "\n"
   ]
  },
  {
   "cell_type": "code",
   "execution_count": 29,
   "metadata": {},
   "outputs": [
    {
     "name": "stdout",
     "output_type": "stream",
     "text": [
      "Hi, my value is 7\n",
      "True\n",
      "True\n",
      "Mr. Gumby\n"
     ]
    },
    {
     "data": {
      "text/plain": [
       "{'value': 7, 'name': 'Mr. Gumby'}"
      ]
     },
     "execution_count": 29,
     "metadata": {},
     "output_type": "execute_result"
    }
   ],
   "source": [
    "class Calculator:\n",
    "    def calculate(self, expression):\n",
    "        self.value = eval(expression)\n",
    "\n",
    "class Talker:\n",
    "    def talk(self):\n",
    "        print('Hi, my value is', self.value)\n",
    "\n",
    "class TalkingCalculator(Calculator, Talker):\n",
    "    pass\n",
    "\n",
    "\n",
    "tc = TalkingCalculator()\n",
    "tc.calculate('1 + 2 * 3')\n",
    "tc.talk()\n",
    "\n",
    "\n",
    "print(hasattr(tc, 'talk'))\n",
    "\n",
    "print(callable(getattr(tc, 'talk', None)))\n",
    "\n",
    "setattr(tc, 'name', 'Mr. Gumby')\n",
    "print(tc.name)\n",
    "\n",
    "tc.__dict__"
   ]
  },
  {
   "cell_type": "code",
   "execution_count": 32,
   "metadata": {},
   "outputs": [
    {
     "name": "stdout",
     "output_type": "stream",
     "text": [
      "True\n",
      "Ni!\n",
      "False\n"
     ]
    }
   ],
   "source": [
    "from abc import ABC, abstractmethod\n",
    "\n",
    "class Talker(ABC):\n",
    "    @abstractmethod\n",
    "    def talk(self):\n",
    "        pass\n",
    "\n",
    "class Knigget(Talker):\n",
    "    def talk(self):\n",
    "        print(\"Ni!\")\n",
    "\n",
    "k = Knigget()\n",
    "print(isinstance(k, Talker))\n",
    "k.talk()\n",
    "\n",
    "\n",
    "class Herring:\n",
    "    def talk(self):\n",
    "        print(\"Blub.\")\n",
    "\n",
    "h = Herring()\n",
    "print(isinstance(h, Talker))\n"
   ]
  }
 ],
 "metadata": {
  "kernelspec": {
   "display_name": ".venv",
   "language": "python",
   "name": "python3"
  },
  "language_info": {
   "codemirror_mode": {
    "name": "ipython",
    "version": 3
   },
   "file_extension": ".py",
   "mimetype": "text/x-python",
   "name": "python",
   "nbconvert_exporter": "python",
   "pygments_lexer": "ipython3",
   "version": "3.10.12"
  }
 },
 "nbformat": 4,
 "nbformat_minor": 2
}
