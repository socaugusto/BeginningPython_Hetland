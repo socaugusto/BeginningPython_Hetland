{
 "cells": [
  {
   "cell_type": "code",
   "execution_count": 1,
   "metadata": {},
   "outputs": [
    {
     "name": "stdout",
     "output_type": "stream",
     "text": [
      "42\n"
     ]
    }
   ],
   "source": [
    "class FooBar:\n",
    "    def __init__(self):\n",
    "        self.somevar = 42\n",
    "\n",
    "f = FooBar()\n",
    "print(f.somevar)"
   ]
  },
  {
   "cell_type": "code",
   "execution_count": 2,
   "metadata": {},
   "outputs": [
    {
     "name": "stdout",
     "output_type": "stream",
     "text": [
      "55\n"
     ]
    }
   ],
   "source": [
    "class FooBar:\n",
    "    def __init__(self, value=42):\n",
    "        self.somevar = value\n",
    "\n",
    "f = FooBar(55)\n",
    "print(f.somevar)"
   ]
  },
  {
   "cell_type": "code",
   "execution_count": 3,
   "metadata": {},
   "outputs": [
    {
     "name": "stdout",
     "output_type": "stream",
     "text": [
      "Hello, I'm A.\n",
      "Hello, I'm A.\n"
     ]
    }
   ],
   "source": [
    "class A:\n",
    "    def hello(self):\n",
    "        print(\"Hello, I'm A.\")\n",
    "class B(A):\n",
    "    pass\n",
    "\n",
    "a = A()\n",
    "b = B()\n",
    "a.hello()\n",
    "b.hello()"
   ]
  },
  {
   "cell_type": "code",
   "execution_count": 4,
   "metadata": {},
   "outputs": [
    {
     "name": "stdout",
     "output_type": "stream",
     "text": [
      "Hello, I'm A.\n",
      "Hello, I'm B.\n"
     ]
    }
   ],
   "source": [
    "class A:\n",
    "    def hello(self):\n",
    "        print(\"Hello, I'm A.\")\n",
    "class B(A):\n",
    "    def hello(self):\n",
    "        print(\"Hello, I'm B.\")\n",
    "\n",
    "a = A()\n",
    "b = B()\n",
    "a.hello()\n",
    "b.hello()"
   ]
  },
  {
   "cell_type": "code",
   "execution_count": 9,
   "metadata": {},
   "outputs": [
    {
     "name": "stdout",
     "output_type": "stream",
     "text": [
      "Aaaah ...\n",
      "No, thanks!\n",
      "Squawk!\n",
      "Aaaah ...\n"
     ]
    }
   ],
   "source": [
    "class Bird:\n",
    "    def __init__(self):\n",
    "        self.hungry = True\n",
    "    def eat(self):\n",
    "        if self.hungry:\n",
    "            print('Aaaah ...')\n",
    "            self.hungry = False\n",
    "        else:\n",
    "            print('No, thanks!')\n",
    "\n",
    "b = Bird()\n",
    "b.eat()\n",
    "b.eat()\n",
    "\n",
    "class SongBird(Bird):\n",
    "    def __init__(self):\n",
    "        Bird.__init__(self)     # must explicitly call constructor, this is one method\n",
    "        self.sound = 'Squawk!'\n",
    "    def sing(self):\n",
    "        print(self.sound)\n",
    "\n",
    "sb = SongBird()\n",
    "sb.sing()\n",
    "sb.eat()\n",
    "\n"
   ]
  },
  {
   "cell_type": "code",
   "execution_count": 11,
   "metadata": {},
   "outputs": [
    {
     "name": "stdout",
     "output_type": "stream",
     "text": [
      "Squawk!\n",
      "Aaaah ...\n",
      "No, thanks!\n"
     ]
    }
   ],
   "source": [
    "class Bird:\n",
    "    def __init__(self):\n",
    "        self.hungry = True\n",
    "    \n",
    "    def eat(self):\n",
    "        if self.hungry:\n",
    "            print('Aaaah ...')\n",
    "            self.hungry = False\n",
    "        else:\n",
    "            print('No, thanks!')\n",
    "\n",
    "class SongBird(Bird):\n",
    "    def __init__(self):\n",
    "        super().__init__()      # must explicitly call constructor, this is another method\n",
    "        self.sound = 'Squawk!'\n",
    "    def sing(self):\n",
    "        print(self.sound)\n",
    "\n",
    "sb = SongBird()\n",
    "sb.sing()\n",
    "sb.eat()\n",
    "sb.eat()"
   ]
  },
  {
   "cell_type": "code",
   "execution_count": 4,
   "metadata": {},
   "outputs": [
    {
     "name": "stdout",
     "output_type": "stream",
     "text": [
      "9\n",
      "2\n",
      "11\n"
     ]
    }
   ],
   "source": [
    "def check_index(key):\n",
    "    \"\"\"\n",
    "    Is the given key an acceptable index?\n",
    "    To be acceptable, the key should be a non-negative integer. If it\n",
    "    is not an integer, a TypeError is raised; if it is negative, an\n",
    "    IndexError is raised (since the sequence is of infinite length).\n",
    "    \"\"\"\n",
    "    if not isinstance(key, int): \n",
    "        raise TypeError\n",
    "    if key < 0: \n",
    "        raise IndexError\n",
    "    \n",
    "class ArithmeticSequence:\n",
    "    def __init__(self, start=0, step=1):\n",
    "        \"\"\"\n",
    "        Initialize the arithmetic sequence.\n",
    "        start - the first value in the sequence\n",
    "        step - the difference between two adjacent values\n",
    "        changed - a dictionary of values that have been modified by\n",
    "        the user\n",
    "        \"\"\"\n",
    "        self.start = start # Store the start value\n",
    "        self.step = step # Store the step value\n",
    "        self.changed = {} # No items have been modified\n",
    "\n",
    "    def __getitem__(self, key):\n",
    "        \"\"\"\n",
    "        Get an item from the arithmetic sequence.\n",
    "        \"\"\"\n",
    "        check_index(key)\n",
    "        try: \n",
    "            return self.changed[key] # Modified?\n",
    "        except KeyError: # otherwise ...\n",
    "            return self.start + key * self.step # ... calculate the value\n",
    "        \n",
    "    def __setitem__(self, key, value):\n",
    "        \"\"\"\n",
    "        Change an item in the arithmetic sequence.\n",
    "        \"\"\"\n",
    "        check_index(key)\n",
    "        self.changed[key] = value # Store the changed value\n",
    "    \n",
    "s = ArithmeticSequence(1, 2)\n",
    "print(s[4])\n",
    "\n",
    "s[4] = 2\n",
    "print(s[4])\n",
    "print(s[5])"
   ]
  },
  {
   "cell_type": "code",
   "execution_count": 10,
   "metadata": {},
   "outputs": [
    {
     "name": "stdout",
     "output_type": "stream",
     "text": [
      "[0, 1, 2, 3, 4, 5, 6, 7, 8, 9]\n",
      "[9, 8, 7, 6, 5, 4, 3, 2, 1, 0]\n",
      "0\n",
      "9\n",
      "2\n"
     ]
    }
   ],
   "source": [
    "class CounterList(list):\n",
    "    def __init__(self, *args):\n",
    "        super().__init__(*args)\n",
    "        self.counter = 0\n",
    "\n",
    "    def __getitem__(self, index):\n",
    "        self.counter += 1\n",
    "        return super(CounterList, self).__getitem__(index)\n",
    "    \n",
    "cl = CounterList(range(10))\n",
    "print(cl)\n",
    "\n",
    "cl.reverse()\n",
    "print(cl)\n",
    "del cl[3:6]\n",
    "\n",
    "print(cl.counter)\n",
    "print(cl[4] + cl[2])\n",
    "print(cl.counter)\n",
    "\n",
    "\n"
   ]
  },
  {
   "cell_type": "code",
   "execution_count": 15,
   "metadata": {},
   "outputs": [
    {
     "name": "stdout",
     "output_type": "stream",
     "text": [
      "(10, 5)\n",
      "(10, 5)\n",
      "150\n"
     ]
    }
   ],
   "source": [
    "class Rectangle:\n",
    "    def __init__(self):\n",
    "        self.width = 0\n",
    "        self.height = 0\n",
    "\n",
    "    def set_size(self, size):\n",
    "        self.width, self.height = size\n",
    "    \n",
    "    def get_size(self):\n",
    "        return self.width, self.height\n",
    "    \n",
    "    size = property(get_size, set_size)\n",
    "    \n",
    "r = Rectangle()\n",
    "r.width = 10\n",
    "r.height = 5\n",
    "print(r.get_size())\n",
    "\n",
    "print(r.size) # property\n",
    "\n",
    "r.set_size((150,100))\n",
    "r.size = 150, 100 # property\n",
    "print(r.width)\n",
    "\n",
    "\n"
   ]
  },
  {
   "cell_type": "code",
   "execution_count": 16,
   "metadata": {},
   "outputs": [],
   "source": [
    "class MyClass:\n",
    "    def smeth():\n",
    "        print('This is a static method')\n",
    "    smeth = staticmethod(smeth)\n",
    "    \n",
    "    def cmeth(cls):\n",
    "        print('This is a class method of', cls)\n",
    "    cmeth = classmethod(cmeth)\n",
    "\n"
   ]
  },
  {
   "cell_type": "code",
   "execution_count": 18,
   "metadata": {},
   "outputs": [
    {
     "name": "stdout",
     "output_type": "stream",
     "text": [
      "This is a static method\n",
      "This is a class method of <class '__main__.MyClass'>\n"
     ]
    }
   ],
   "source": [
    "class MyClass:\n",
    "\n",
    "    @staticmethod\n",
    "    def smeth():\n",
    "        print('This is a static method')\n",
    "    \n",
    "    @classmethod\n",
    "    def cmeth(cls):\n",
    "        print('This is a class method of', cls)\n",
    "\n",
    "\n",
    "MyClass.smeth()\n",
    "MyClass.cmeth()\n",
    "\n"
   ]
  },
  {
   "cell_type": "code",
   "execution_count": null,
   "metadata": {},
   "outputs": [],
   "source": [
    "class Rectangle:\n",
    "    def __init__ (self):\n",
    "        self.width = 0\n",
    "        self.height = 0\n",
    "    def __setattr__(self, name, value):\n",
    "        if name == 'size':\n",
    "            self.width, self.height = value\n",
    "        else:\n",
    "            self. __dict__[name] = value\n",
    "    def __getattr__(self, name):\n",
    "        if name == 'size':\n",
    "            return self.width, self.height\n",
    "        else:\n",
    "            raise AttributeError()\n",
    "        \n"
   ]
  },
  {
   "cell_type": "code",
   "execution_count": 20,
   "metadata": {},
   "outputs": [
    {
     "name": "stdout",
     "output_type": "stream",
     "text": [
      "1597\n"
     ]
    }
   ],
   "source": [
    "class Fibs:\n",
    "    def __init__(self):\n",
    "        self.a = 0\n",
    "        self.b = 1\n",
    "    \n",
    "    def __next__(self):\n",
    "        self.a, self.b = self.b, self.a + self.b\n",
    "        return self.a\n",
    "    \n",
    "    def __iter__(self):\n",
    "        return self\n",
    "    \n",
    "fibs = Fibs()\n",
    "for f in fibs:\n",
    "    if f > 1000:\n",
    "        print(f)\n",
    "        break"
   ]
  },
  {
   "cell_type": "code",
   "execution_count": 22,
   "metadata": {},
   "outputs": [
    {
     "name": "stdout",
     "output_type": "stream",
     "text": [
      "1\n",
      "2\n"
     ]
    }
   ],
   "source": [
    "it = iter([1, 2, 3])\n",
    "print(next(it))\n",
    "print(next(it))"
   ]
  },
  {
   "cell_type": "code",
   "execution_count": 23,
   "metadata": {},
   "outputs": [
    {
     "data": {
      "text/plain": [
       "[1, 2, 3, 4, 5, 6, 7, 8, 9, 10]"
      ]
     },
     "execution_count": 23,
     "metadata": {},
     "output_type": "execute_result"
    }
   ],
   "source": [
    "class TestIterator:\n",
    "    value = 0\n",
    "    def __next__(self):\n",
    "        self.value += 1\n",
    "        if self.value > 10: \n",
    "            raise StopIteration\n",
    "        return self.value\n",
    "    def __iter__(self):\n",
    "        return self\n",
    "\n",
    "ti = TestIterator()\n",
    "list(ti)"
   ]
  },
  {
   "cell_type": "code",
   "execution_count": 24,
   "metadata": {},
   "outputs": [
    {
     "name": "stdout",
     "output_type": "stream",
     "text": [
      "1\n",
      "2\n",
      "3\n",
      "4\n",
      "5\n"
     ]
    }
   ],
   "source": [
    "nested = [[1, 2], [3, 4], [5]]\n",
    "\n",
    "def flatten(nested):\n",
    "    for sublist in nested:\n",
    "        for element in sublist:\n",
    "            yield element\n",
    "\n",
    "\n",
    "nested = [[1, 2], [3, 4], [5]]\n",
    "for num in flatten(nested):\n",
    "    print(num)"
   ]
  },
  {
   "cell_type": "code",
   "execution_count": 25,
   "metadata": {},
   "outputs": [
    {
     "data": {
      "text/plain": [
       "16"
      ]
     },
     "execution_count": 25,
     "metadata": {},
     "output_type": "execute_result"
    }
   ],
   "source": [
    "g = ((i + 2) ** 2 for i in range(2, 27))\n",
    "next(g)"
   ]
  },
  {
   "cell_type": "code",
   "execution_count": 26,
   "metadata": {},
   "outputs": [
    {
     "data": {
      "text/plain": [
       "[1, 2, 3, 4, 5, 6, 7, 8]"
      ]
     },
     "execution_count": 26,
     "metadata": {},
     "output_type": "execute_result"
    }
   ],
   "source": [
    "def flatten(nested):\n",
    "    try:\n",
    "        for sublist in nested:\n",
    "            for element in flatten(sublist):\n",
    "                yield element\n",
    "    except TypeError:\n",
    "        yield nested\n",
    "\n",
    "list(flatten([[[1], 2], 3, 4, [5, [6, 7]], 8]))"
   ]
  },
  {
   "cell_type": "code",
   "execution_count": 27,
   "metadata": {},
   "outputs": [
    {
     "data": {
      "text/plain": [
       "['foo', 'bar', 'baz']"
      ]
     },
     "execution_count": 27,
     "metadata": {},
     "output_type": "execute_result"
    }
   ],
   "source": [
    "def flatten(nested):\n",
    "    try:\n",
    "        # Don't iterate over string-like objects:\n",
    "        try: nested + ''\n",
    "        except TypeError: \n",
    "            pass\n",
    "        else: \n",
    "            raise TypeError\n",
    "        for sublist in nested:\n",
    "            for element in flatten(sublist):\n",
    "                yield element\n",
    "    except TypeError:\n",
    "        yield nested\n",
    "\n",
    "list(flatten(['foo', ['bar', ['baz']]]))\n"
   ]
  },
  {
   "cell_type": "code",
   "execution_count": 29,
   "metadata": {},
   "outputs": [
    {
     "name": "stdout",
     "output_type": "stream",
     "text": [
      "42\n"
     ]
    },
    {
     "data": {
      "text/plain": [
       "'Hello, world!'"
      ]
     },
     "execution_count": 29,
     "metadata": {},
     "output_type": "execute_result"
    }
   ],
   "source": [
    "def repeater(value):\n",
    "    while True:\n",
    "        new = (yield value)\n",
    "        if new is not None: \n",
    "            value = new\n",
    "\n",
    "r = repeater(42)\n",
    "print(next(r))\n",
    "\n",
    "r.send(\"Hello, world!\")\n",
    "\n"
   ]
  },
  {
   "cell_type": "markdown",
   "metadata": {},
   "source": [
    "## The Eight Queens"
   ]
  },
  {
   "cell_type": "code",
   "execution_count": 31,
   "metadata": {},
   "outputs": [
    {
     "name": "stdout",
     "output_type": "stream",
     "text": [
      "[2]\n"
     ]
    }
   ],
   "source": [
    "def conflict(state, nextX):\n",
    "    nextY = len(state)\n",
    "    for i in range(nextY):\n",
    "        if abs(state[i] - nextX) in (0, nextY - i):\n",
    "            return True\n",
    "    return False\n",
    "\n",
    "\n",
    "def queens(num, state):\n",
    "    if len(state) == num-1:\n",
    "        for pos in range(num):\n",
    "            if not conflict(state, pos):\n",
    "                yield pos\n",
    "\n",
    "\n",
    "print(list(queens(4, (1, 3, 0))))"
   ]
  },
  {
   "cell_type": "code",
   "execution_count": 37,
   "metadata": {},
   "outputs": [
    {
     "name": "stdout",
     "output_type": "stream",
     "text": [
      ". . . . . . X . \n",
      ". X . . . . . . \n",
      ". . . X . . . . \n",
      "X . . . . . . . \n",
      ". . . . . . . X \n",
      ". . . . X . . . \n",
      ". . X . . . . . \n",
      ". . . . . X . . \n"
     ]
    }
   ],
   "source": [
    "def conflict(state, nextX):\n",
    "    nextY = len(state)\n",
    "    for i in range(nextY):\n",
    "        if abs(state[i] - nextX) in (0, nextY - i):\n",
    "            return True\n",
    "    return False\n",
    "\n",
    "def queens(num=8, state=()):\n",
    "    for pos in range(num):\n",
    "        if not conflict(state, pos):\n",
    "            if len(state) == num-1:\n",
    "                yield (pos,)\n",
    "            else:\n",
    "                for result in queens(num, state + (pos,)):\n",
    "                    yield (pos,) + result\n",
    "\n",
    "\n",
    "# print(list(queens(3)))\n",
    "# print(list(queens(4)))\n",
    "\n",
    "# for solution in queens(8):\n",
    "#     print(solution)\n",
    "\n",
    "def prettyprint(solution):\n",
    "    def line(pos, length=len(solution)):\n",
    "        return '. ' * (pos) + 'X ' + '. ' * (length-pos-1)\n",
    "    for pos in solution:\n",
    "        print(line(pos))\n",
    "\n",
    "import random\n",
    "prettyprint(random.choice(list(queens(8))))\n"
   ]
  }
 ],
 "metadata": {
  "kernelspec": {
   "display_name": ".venv",
   "language": "python",
   "name": "python3"
  },
  "language_info": {
   "codemirror_mode": {
    "name": "ipython",
    "version": 3
   },
   "file_extension": ".py",
   "mimetype": "text/x-python",
   "name": "python",
   "nbconvert_exporter": "python",
   "pygments_lexer": "ipython3",
   "version": "3.10.12"
  }
 },
 "nbformat": 4,
 "nbformat_minor": 2
}
