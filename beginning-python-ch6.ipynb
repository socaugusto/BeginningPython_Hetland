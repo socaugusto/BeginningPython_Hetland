{
 "cells": [
  {
   "cell_type": "code",
   "execution_count": 2,
   "metadata": {},
   "outputs": [
    {
     "name": "stdout",
     "output_type": "stream",
     "text": [
      "[0, 1, 1, 2, 3, 5, 8, 13, 21, 34]\n"
     ]
    }
   ],
   "source": [
    "fibs = [0, 1]\n",
    "for i in range(8):\n",
    "    fibs.append(fibs[-2] + fibs[-1])\n",
    "print(fibs)"
   ]
  },
  {
   "cell_type": "code",
   "execution_count": 4,
   "metadata": {},
   "outputs": [
    {
     "name": "stdout",
     "output_type": "stream",
     "text": [
      "[0, 1, 1, 2, 3, 5, 8, 13, 21, 34, 55, 89, 144, 233, 377, 610, 987, 1597, 2584, 4181, 6765, 10946, 17711, 28657, 46368]\n"
     ]
    }
   ],
   "source": [
    "fibs = [0, 1]\n",
    "num = int(input('How many Fibonacci numbers do you want? '))\n",
    "for i in range(num-2):\n",
    "    fibs.append(fibs[-2] + fibs[-1])\n",
    "print(fibs)"
   ]
  },
  {
   "cell_type": "code",
   "execution_count": 5,
   "metadata": {},
   "outputs": [
    {
     "name": "stdout",
     "output_type": "stream",
     "text": [
      "False\n",
      "True\n"
     ]
    }
   ],
   "source": [
    "import math\n",
    "x = 1\n",
    "y = math.sqrt\n",
    "print(callable(x))\n",
    "print(callable(y))"
   ]
  },
  {
   "cell_type": "code",
   "execution_count": 6,
   "metadata": {},
   "outputs": [
    {
     "name": "stdout",
     "output_type": "stream",
     "text": [
      "Hello, world!\n",
      "Hello, Gumby!\n"
     ]
    }
   ],
   "source": [
    "def hello(name):\n",
    "    return 'Hello, ' + name + '!'\n",
    "\n",
    "print(hello('world'))\n",
    "print(hello('Gumby'))"
   ]
  },
  {
   "cell_type": "code",
   "execution_count": 7,
   "metadata": {},
   "outputs": [
    {
     "name": "stdout",
     "output_type": "stream",
     "text": [
      "[0, 1, 1, 2, 3, 5, 8, 13, 21, 34]\n",
      "[0, 1, 1, 2, 3, 5, 8, 13, 21, 34, 55, 89, 144, 233, 377]\n"
     ]
    }
   ],
   "source": [
    "def fibs(num):\n",
    "    result = [0, 1]\n",
    "    for i in range(num-2):\n",
    "        result.append(result[-2] + result[-1])\n",
    "    return result\n",
    "\n",
    "print(fibs(10))\n",
    "print(fibs(15))"
   ]
  },
  {
   "cell_type": "code",
   "execution_count": 9,
   "metadata": {},
   "outputs": [
    {
     "name": "stdout",
     "output_type": "stream",
     "text": [
      "Calculates the square of the number x.\n",
      "Help on function square in module __main__:\n",
      "\n",
      "square(x)\n",
      "    Calculates the square of the number x.\n",
      "\n",
      "None\n"
     ]
    }
   ],
   "source": [
    "def square(x):\n",
    "    'Calculates the square of the number x.'\n",
    "    return x * x\n",
    "\n",
    "print(square.__doc__)\n",
    "\n",
    "print(help(square))\n"
   ]
  },
  {
   "cell_type": "code",
   "execution_count": 11,
   "metadata": {},
   "outputs": [
    {
     "name": "stdout",
     "output_type": "stream",
     "text": [
      "This is printed\n",
      "None\n"
     ]
    }
   ],
   "source": [
    "def test():\n",
    "    print('This is printed')\n",
    "    return\n",
    "    print('This is not')\n",
    "\n",
    "x = test()\n",
    "\n",
    "print(x)"
   ]
  },
  {
   "cell_type": "code",
   "execution_count": 12,
   "metadata": {},
   "outputs": [
    {
     "name": "stdout",
     "output_type": "stream",
     "text": [
      "Mrs. Entity\n"
     ]
    }
   ],
   "source": [
    "def try_to_change(n):\n",
    "    n = 'Mr. Gumby'\n",
    "\n",
    "name = 'Mrs. Entity'\n",
    "try_to_change(name)\n",
    "print(name)"
   ]
  },
  {
   "cell_type": "code",
   "execution_count": 13,
   "metadata": {},
   "outputs": [
    {
     "name": "stdout",
     "output_type": "stream",
     "text": [
      "['Mr. Gumby', 'Mrs. Thing']\n"
     ]
    }
   ],
   "source": [
    "def change(n):\n",
    "    n[0] = 'Mr. Gumby'\n",
    "\n",
    "names = ['Mrs. Entity', 'Mrs. Thing']\n",
    "change(names)\n",
    "print(names)"
   ]
  },
  {
   "cell_type": "code",
   "execution_count": 14,
   "metadata": {},
   "outputs": [
    {
     "name": "stdout",
     "output_type": "stream",
     "text": [
      "[11]\n"
     ]
    }
   ],
   "source": [
    "def inc(x): \n",
    "    x[0] = x[0] + 1\n",
    "\n",
    "foo = [10]\n",
    "inc(foo)\n",
    "print(foo)"
   ]
  },
  {
   "cell_type": "code",
   "execution_count": 18,
   "metadata": {},
   "outputs": [
    {
     "name": "stdout",
     "output_type": "stream",
     "text": [
      "Hello, world!\n",
      "Hello, world!\n",
      "Hello, world!\n",
      "Hello, world!\n",
      "world, Hello!\n"
     ]
    }
   ],
   "source": [
    "def hello_1(greeting, name):\n",
    "    print('{}, {}!'.format(greeting, name))\n",
    "\n",
    "def hello_2(name, greeting):\n",
    "    print('{}, {}!'.format(name, greeting))\n",
    "\n",
    "hello_1('Hello', 'world')\n",
    "hello_2('Hello', 'world')\n",
    "\n",
    "\n",
    "hello_1(greeting='Hello', name='world')\n",
    "hello_1(name='world', greeting='Hello')\n",
    "\n",
    "hello_2(greeting='Hello', name='world')\n"
   ]
  },
  {
   "cell_type": "code",
   "execution_count": 20,
   "metadata": {},
   "outputs": [
    {
     "name": "stdout",
     "output_type": "stream",
     "text": [
      "Hello, Mars!\n",
      "Howdy, Mars!\n",
      "Howdy, Mars...\n",
      "Hello, Mars.\n",
      "Top of the morning to ya, Mars!\n"
     ]
    }
   ],
   "source": [
    "def hello_4(name, greeting='Hello', punctuation='!'):\n",
    "    print('{}, {}{}'.format(greeting, name, punctuation))\n",
    "\n",
    "hello_4('Mars')\n",
    "hello_4('Mars', 'Howdy')\n",
    "hello_4('Mars', 'Howdy', '...')\n",
    "hello_4('Mars', punctuation='.')\n",
    "hello_4('Mars', greeting='Top of the morning to ya')\n"
   ]
  },
  {
   "cell_type": "code",
   "execution_count": 21,
   "metadata": {},
   "outputs": [
    {
     "name": "stdout",
     "output_type": "stream",
     "text": [
      "(1, 2, 3)\n"
     ]
    }
   ],
   "source": [
    "def print_params(*params):\n",
    "    print(params)\n",
    "\n",
    "print_params(1, 2, 3)"
   ]
  },
  {
   "cell_type": "code",
   "execution_count": 22,
   "metadata": {},
   "outputs": [
    {
     "name": "stdout",
     "output_type": "stream",
     "text": [
      "Params:\n",
      "(1, 2, 3)\n"
     ]
    }
   ],
   "source": [
    "def print_params_2(title, *params):\n",
    "    print(title)\n",
    "    print(params)\n",
    "\n",
    "print_params_2('Params:', 1, 2, 3)"
   ]
  },
  {
   "cell_type": "code",
   "execution_count": 23,
   "metadata": {},
   "outputs": [
    {
     "name": "stdout",
     "output_type": "stream",
     "text": [
      "1 (2, 3, 4, 5) 7\n"
     ]
    }
   ],
   "source": [
    "def in_the_middle(x, *y, z):\n",
    "    print(x, y, z)\n",
    "\n",
    "in_the_middle(1, 2, 3, 4, 5, z=7)"
   ]
  },
  {
   "cell_type": "code",
   "execution_count": 24,
   "metadata": {},
   "outputs": [
    {
     "name": "stdout",
     "output_type": "stream",
     "text": [
      "{'x': 1, 'y': 2, 'z': 3}\n"
     ]
    }
   ],
   "source": [
    "def print_params_3(**params):\n",
    "   print(params)\n",
    "\n",
    "print_params_3(x=1, y=2, z=3)"
   ]
  },
  {
   "cell_type": "code",
   "execution_count": 27,
   "metadata": {},
   "outputs": [
    {
     "name": "stdout",
     "output_type": "stream",
     "text": [
      "1 2 3\n",
      "(5, 6, 7)\n",
      "{'foo': 1, 'bar': 2}\n",
      "--------------------\n",
      "1 2 3\n",
      "()\n",
      "{}\n"
     ]
    }
   ],
   "source": [
    "def print_params_4(x, y, z=3, *pospar, **keypar):\n",
    "    print(x, y, z)\n",
    "    print(pospar)\n",
    "    print(keypar)\n",
    "\n",
    "print_params_4(1, 2, 3, 5, 6, 7, foo=1, bar=2)\n",
    "print(\"--------------------\")\n",
    "print_params_4(1, 2)"
   ]
  },
  {
   "cell_type": "code",
   "execution_count": 30,
   "metadata": {},
   "outputs": [
    {
     "name": "stdout",
     "output_type": "stream",
     "text": [
      "['Luke Skywalker', 'Anakin Skywalker']\n"
     ]
    }
   ],
   "source": [
    "def init(data):\n",
    "    data['first'] = {}\n",
    "    data['middle'] = {}\n",
    "    data['last'] = {}\n",
    "\n",
    "def lookup(data, label, name):\n",
    "    return data[label].get(name)\n",
    "\n",
    "def store(data, *full_names):\n",
    "    for full_name in full_names:\n",
    "        names = full_name.split()\n",
    "        if len(names) == 2: \n",
    "            names.insert(1, '')\n",
    "        labels = 'first', 'middle', 'last'\n",
    "        for label, name in zip(labels, names):\n",
    "            people = lookup(data, label, name)\n",
    "            if people:\n",
    "                people.append(full_name)\n",
    "            else:\n",
    "                data[label][name] = [full_name]\n",
    "\n",
    "d = {}\n",
    "init(d)\n",
    "store(d, 'Han Solo')\n",
    "store(d, 'Luke Skywalker', 'Anakin Skywalker')\n",
    "print(lookup(d, 'last', 'Skywalker'))"
   ]
  },
  {
   "cell_type": "code",
   "execution_count": 31,
   "metadata": {},
   "outputs": [
    {
     "name": "stdout",
     "output_type": "stream",
     "text": [
      "3\n"
     ]
    }
   ],
   "source": [
    "def add(x, y):\n",
    "    return x + y\n",
    "\n",
    "params = (1, 2)\n",
    "print(add(*params))"
   ]
  },
  {
   "cell_type": "code",
   "execution_count": 33,
   "metadata": {},
   "outputs": [
    {
     "name": "stdout",
     "output_type": "stream",
     "text": [
      "Well met, Sir Robin!\n"
     ]
    }
   ],
   "source": [
    "def hello_3(greeting='Hello', name='world'):\n",
    "    print('{}, {}!'.format(greeting, name))\n",
    "\n",
    "params = {'name': 'Sir Robin', 'greeting': 'Well met'}\n",
    "hello_3(**params)"
   ]
  },
  {
   "cell_type": "code",
   "execution_count": 34,
   "metadata": {},
   "outputs": [
    {
     "name": "stdout",
     "output_type": "stream",
     "text": [
      "Mr. Gumby is 42 years old\n",
      "None\n",
      "Mr. Gumby is 42 years old\n",
      "None\n"
     ]
    }
   ],
   "source": [
    "def with_stars(**kwds):\n",
    "    print(kwds['name'], 'is', kwds['age'], 'years old')\n",
    "\n",
    "def without_stars(kwds):\n",
    "    print(kwds['name'], 'is', kwds['age'], 'years old')\n",
    "\n",
    "\n",
    "args = {'name': 'Mr. Gumby', 'age': 42}\n",
    "\n",
    "print(with_stars(**args))\n",
    "print(without_stars(args))"
   ]
  },
  {
   "cell_type": "code",
   "execution_count": 4,
   "metadata": {},
   "outputs": [
    {
     "name": "stdout",
     "output_type": "stream",
     "text": [
      "Once upon a time, there was a king called Gumby.\n",
      "Once upon a time, there was a brave knight called Sir Robin.\n",
      "Once upon a time, there was a language called Python.\n",
      "Once upon a time, there was a stroke of genius called Python.\n",
      "8\n",
      "9\n",
      "8\n",
      "3125\n",
      "Received redundant parameters: ('Hello, world',)\n",
      "27\n",
      "[0, 1, 2, 3, 4, 5, 6, 7, 8, 9]\n",
      "[1, 2, 3, 4]\n",
      "[3, 7, 11]\n",
      "Received redundant parameters: (5, 6)\n",
      "81\n"
     ]
    }
   ],
   "source": [
    "def story(**kwds):\n",
    "    return 'Once upon a time, there was a ' \\\n",
    "    '{job} called {name}.'.format_map(kwds)\n",
    "\n",
    "def power(x, y, *others):\n",
    "    if others:\n",
    "        print('Received redundant parameters:', others)\n",
    "    return pow(x, y)\n",
    "\n",
    "def interval(start, stop=None, step=1):\n",
    "    'Imitates range() for step > 0'\n",
    "    if stop is None: # If the stop is not supplied ...\n",
    "        start, stop = 0, start # shuffle the parameters\n",
    "    result = []\n",
    "\n",
    "    i = start # We start counting at the start index\n",
    "    while i < stop: # Until the index reaches the stop index ...\n",
    "        result.append(i) # ... append the index to the result ...\n",
    "        i += step # ... increment the index with the step (> 0)\n",
    "    return result\n",
    "\n",
    "print(story(job='king', name='Gumby'))\n",
    "print(story(name='Sir Robin', job='brave knight'))\n",
    "\n",
    "params = {'job': 'language', 'name': 'Python'}\n",
    "print(story(**params))\n",
    "\n",
    "del params['job']\n",
    "print(story(job='stroke of genius', **params))\n",
    "\n",
    "print(power(2, 3))\n",
    "print(power(3, 2))\n",
    "print(power(y=3, x=2))\n",
    "\n",
    "params = (5,) * 2\n",
    "print(power(*params))\n",
    "\n",
    "print(power(3, 3, 'Hello, world'))\n",
    "\n",
    "print(interval(10))\n",
    "print(interval(1, 5))\n",
    "print(interval(3, 12, 4))\n",
    "print(power(*interval(3, 7)))"
   ]
  },
  {
   "cell_type": "code",
   "execution_count": 3,
   "metadata": {},
   "outputs": [
    {
     "name": "stdout",
     "output_type": "stream",
     "text": [
      "1\n",
      "2\n"
     ]
    }
   ],
   "source": [
    "x = 1\n",
    "scope = vars()\n",
    "print(scope['x'])\n",
    "\n",
    "scope['x'] += 1\n",
    "print(x)"
   ]
  },
  {
   "cell_type": "code",
   "execution_count": 4,
   "metadata": {},
   "outputs": [
    {
     "name": "stdout",
     "output_type": "stream",
     "text": [
      "Shrubberry\n"
     ]
    }
   ],
   "source": [
    "def combine(parameter):\n",
    "    print(parameter+external)\n",
    "\n",
    "external = 'berry'\n",
    "combine('Shrub')"
   ]
  },
  {
   "cell_type": "code",
   "execution_count": 5,
   "metadata": {},
   "outputs": [
    {
     "name": "stdout",
     "output_type": "stream",
     "text": [
      "Shrubberry\n"
     ]
    }
   ],
   "source": [
    "def combine(parameter):\n",
    "    print(parameter + globals()['parameter'])\n",
    "\n",
    "parameter = 'berry'\n",
    "combine('Shrub')"
   ]
  },
  {
   "cell_type": "code",
   "execution_count": 6,
   "metadata": {},
   "outputs": [
    {
     "name": "stdout",
     "output_type": "stream",
     "text": [
      "2\n"
     ]
    }
   ],
   "source": [
    "x = 1\n",
    "\n",
    "def change_global():\n",
    "    global x\n",
    "    x = x + 1\n",
    "\n",
    "change_global()\n",
    "print(x)"
   ]
  },
  {
   "cell_type": "code",
   "execution_count": 9,
   "metadata": {},
   "outputs": [
    {
     "name": "stdout",
     "output_type": "stream",
     "text": [
      "Hello, world!\n"
     ]
    }
   ],
   "source": [
    "def foo():\n",
    "    def bar():\n",
    "        print(\"Hello, world!\")\n",
    "    bar()\n",
    "\n",
    "foo()"
   ]
  },
  {
   "cell_type": "code",
   "execution_count": 12,
   "metadata": {},
   "outputs": [
    {
     "name": "stdout",
     "output_type": "stream",
     "text": [
      "10\n",
      "9\n",
      "20\n"
     ]
    }
   ],
   "source": [
    "def multiplier(factor):\n",
    "    def multiplyByFactor(number):\n",
    "        return number * factor\n",
    "    return multiplyByFactor\n",
    "\n",
    "double = multiplier(2)\n",
    "print(double(5))\n",
    "\n",
    "triple = multiplier(3)\n",
    "print(triple(3))\n",
    "\n",
    "print(multiplier(5)(4))\n"
   ]
  },
  {
   "cell_type": "code",
   "execution_count": 16,
   "metadata": {},
   "outputs": [
    {
     "name": "stdout",
     "output_type": "stream",
     "text": [
      "120\n",
      "8\n"
     ]
    }
   ],
   "source": [
    "def factorial(n):\n",
    "    if n == 1:\n",
    "        return 1\n",
    "    else:\n",
    "        return n * factorial(n - 1)\n",
    "    \n",
    "print(factorial(5))\n",
    "\n",
    "def power(x, n):\n",
    "    if n == 0:\n",
    "        return 1\n",
    "    else:\n",
    "        return x * power(x, n - 1)\n",
    "    \n",
    "print(power(2,3))\n"
   ]
  },
  {
   "cell_type": "code",
   "execution_count": 5,
   "metadata": {},
   "outputs": [
    {
     "name": "stdout",
     "output_type": "stream",
     "text": [
      "[4, 8, 34, 67, 95, 100, 123]\n",
      "2\n",
      "5\n"
     ]
    }
   ],
   "source": [
    "def search(sequence, number, lower = 0, upper = None):\n",
    "    if upper is None: \n",
    "        upper = len(sequence) - 1\n",
    "    if lower == upper:\n",
    "        assert number == sequence[upper]\n",
    "        return upper\n",
    "    else:\n",
    "        middle = (lower + upper) // 2\n",
    "        if number > sequence[middle]:\n",
    "            return search(sequence, number, middle + 1, upper)\n",
    "        else:\n",
    "            return search(sequence, number, lower, middle)\n",
    "        \n",
    "seq = [34, 67, 8, 123, 4, 100, 95]\n",
    "seq.sort()\n",
    "\n",
    "print(seq)\n",
    "print(search(seq, 34))\n",
    "print(search(seq, 100))"
   ]
  },
  {
   "cell_type": "code",
   "execution_count": 7,
   "metadata": {},
   "outputs": [
    {
     "data": {
      "text/plain": [
       "['0', '1', '2', '3', '4', '5', '6', '7', '8', '9']"
      ]
     },
     "execution_count": 7,
     "metadata": {},
     "output_type": "execute_result"
    }
   ],
   "source": [
    "list(map(str, range(10))) # Equivalent to [str(i) for i in range(10)]"
   ]
  },
  {
   "cell_type": "code",
   "execution_count": 11,
   "metadata": {},
   "outputs": [
    {
     "name": "stdout",
     "output_type": "stream",
     "text": [
      "['foo', 'x41']\n",
      "['foo', 'x41']\n",
      "['foo', 'x41']\n"
     ]
    }
   ],
   "source": [
    "def func(x):\n",
    "    return x.isalnum()\n",
    "\n",
    "seq = [\"foo\", \"x41\", \"?!\", \"***\"]\n",
    "print(list(filter(func,seq)))\n",
    "\n",
    "print([x for x in seq if x.isalnum()])\n",
    "\n",
    "print(list(filter(lambda x: x.isalnum(), seq)))\n",
    "\n"
   ]
  }
 ],
 "metadata": {
  "kernelspec": {
   "display_name": ".venv",
   "language": "python",
   "name": "python3"
  },
  "language_info": {
   "codemirror_mode": {
    "name": "ipython",
    "version": 3
   },
   "file_extension": ".py",
   "mimetype": "text/x-python",
   "name": "python",
   "nbconvert_exporter": "python",
   "pygments_lexer": "ipython3",
   "version": "3.10.12"
  }
 },
 "nbformat": 4,
 "nbformat_minor": 2
}
