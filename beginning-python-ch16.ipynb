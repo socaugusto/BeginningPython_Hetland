{
 "cells": [
  {
   "cell_type": "code",
   "execution_count": 4,
   "metadata": {},
   "outputs": [
    {
     "name": "stdout",
     "output_type": "stream",
     "text": [
      "Trying:\n",
      "    square(2)\n",
      "Expecting:\n",
      "    4\n",
      "ok\n",
      "Trying:\n",
      "    square(3)\n",
      "Expecting:\n",
      "    9\n",
      "ok\n",
      "1 items had no tests:\n",
      "    test_chapter16_mymath\n",
      "1 items passed all tests:\n",
      "   2 tests in test_chapter16_mymath.square\n",
      "2 tests in 2 items.\n",
      "2 passed and 0 failed.\n",
      "Test passed.\n"
     ]
    },
    {
     "data": {
      "text/plain": [
       "0"
      ]
     },
     "execution_count": 4,
     "metadata": {},
     "output_type": "execute_result"
    }
   ],
   "source": [
    "import os\n",
    "os.system('python test_chapter16_doctest.py -v')"
   ]
  },
  {
   "cell_type": "code",
   "execution_count": 9,
   "metadata": {},
   "outputs": [
    {
     "name": "stderr",
     "output_type": "stream",
     "text": [
      "..\n",
      "----------------------------------------------------------------------\n",
      "Ran 2 tests in 0.000s\n",
      "\n",
      "OK\n"
     ]
    },
    {
     "data": {
      "text/plain": [
       "0"
      ]
     },
     "execution_count": 9,
     "metadata": {},
     "output_type": "execute_result"
    }
   ],
   "source": [
    "import os\n",
    "os.system('python test_chapter16_unittest.py')"
   ]
  },
  {
   "cell_type": "code",
   "execution_count": null,
   "metadata": {},
   "outputs": [],
   "source": [
    "import unittest, test_chapter16_mymath\n",
    "from subprocess import Popen, PIPE\n",
    "\n",
    "class ProductTestCase(unittest.TestCase):\n",
    "# Insert previous tests here\n",
    "    def test_with_PyChecker(self):\n",
    "        cmd = 'pychecker', '-Q', my_math.__file__.rstrip('c')\n",
    "        pychecker = Popen(cmd, stdout=PIPE, stderr=PIPE)\n",
    "        self.assertEqual(pychecker.stdout.read(), '')\n",
    "\n",
    "    def test_with_PyLint(self):\n",
    "        cmd = 'pylint', '-rn', 'my_math'\n",
    "        pylint = Popen(cmd, stdout=PIPE, stderr=PIPE)\n",
    "        self.assertEqual(pylint.stdout.read(), '')\n",
    "\n",
    "unittest.main()\n"
   ]
  },
  {
   "cell_type": "code",
   "execution_count": 25,
   "metadata": {},
   "outputs": [
    {
     "name": "stdout",
     "output_type": "stream",
     "text": [
      "         4 function calls in 0.000 seconds\n",
      "\n",
      "   Ordered by: standard name\n",
      "\n",
      "   ncalls  tottime  percall  cumtime  percall filename:lineno(function)\n",
      "        1    0.000    0.000    0.000    0.000 <string>:1(<module>)\n",
      "        1    0.000    0.000    0.000    0.000 test_chapter16_mymath.py:1(product)\n",
      "        1    0.000    0.000    0.000    0.000 {built-in method builtins.exec}\n",
      "        1    0.000    0.000    0.000    0.000 {method 'disable' of '_lsprof.Profiler' objects}\n",
      "\n",
      "\n"
     ]
    }
   ],
   "source": [
    "import cProfile\n",
    "import importlib\n",
    "import test_chapter16_mymath\n",
    "import pstats\n",
    "\n",
    "# Reload the module to make sure changes are picked up\n",
    "importlib.reload(test_chapter16_mymath)\n",
    "\n",
    "# Import the function\n",
    "from test_chapter16_mymath import product\n",
    "\n",
    "# Profile the function\n",
    "cProfile.run('product(1, 2)')"
   ]
  },
  {
   "cell_type": "code",
   "execution_count": 26,
   "metadata": {},
   "outputs": [
    {
     "name": "stdout",
     "output_type": "stream",
     "text": [
      "Mon Jul 22 16:58:41 2024    mymath.profile\n",
      "\n",
      "         43 function calls in 0.000 seconds\n",
      "\n",
      "   Ordered by: cumulative time\n",
      "   List reduced from 19 to 10 due to restriction <10>\n",
      "\n",
      "   ncalls  tottime  percall  cumtime  percall filename:lineno(function)\n",
      "        2    0.000    0.000    0.000    0.000 traitlets.py:676(__get__)\n",
      "        2    0.000    0.000    0.000    0.000 traitlets.py:629(get)\n",
      "        2    0.000    0.000    0.000    0.000 codeop.py:117(__call__)\n",
      "        2    0.000    0.000    0.000    0.000 {built-in method builtins.compile}\n",
      "        2    0.000    0.000    0.000    0.000 interactiveshell.py:3541(run_code)\n",
      "        2    0.000    0.000    0.000    0.000 contextlib.py:279(helper)\n",
      "        2    0.000    0.000    0.000    0.000 contextlib.py:130(__enter__)\n",
      "        4    0.000    0.000    0.000    0.000 {built-in method builtins.next}\n",
      "        2    0.000    0.000    0.000    0.000 {built-in method builtins.exec}\n",
      "        2    0.000    0.000    0.000    0.000 contextlib.py:102(__init__)\n",
      "\n",
      "\n"
     ]
    },
    {
     "data": {
      "text/plain": [
       "<pstats.Stats at 0x7fa82b354d90>"
      ]
     },
     "execution_count": 26,
     "metadata": {},
     "output_type": "execute_result"
    }
   ],
   "source": [
    "import cProfile\n",
    "import pstats\n",
    "import importlib\n",
    "import test_chapter16_mymath\n",
    "\n",
    "# Reload the module to make sure changes are picked up\n",
    "importlib.reload(test_chapter16_mymath)\n",
    "\n",
    "# Import the function\n",
    "from test_chapter16_mymath import product\n",
    "\n",
    "# Create a cProfile.Profile object\n",
    "profiler = cProfile.Profile()\n",
    "\n",
    "# Enable the profiler\n",
    "profiler.enable()\n",
    "\n",
    "# Run the function you want to profile\n",
    "product(1, 2)\n",
    "\n",
    "# Disable the profiler\n",
    "profiler.disable()\n",
    "\n",
    "# Dump the profiling results to a file\n",
    "profiler.dump_stats('mymath.profile')\n",
    "\n",
    "# Load and print the profiling results\n",
    "p = pstats.Stats('mymath.profile')\n",
    "p.strip_dirs().sort_stats('cumulative').print_stats(10)\n"
   ]
  }
 ],
 "metadata": {
  "kernelspec": {
   "display_name": ".venv",
   "language": "python",
   "name": "python3"
  },
  "language_info": {
   "codemirror_mode": {
    "name": "ipython",
    "version": 3
   },
   "file_extension": ".py",
   "mimetype": "text/x-python",
   "name": "python",
   "nbconvert_exporter": "python",
   "pygments_lexer": "ipython3",
   "version": "3.10.12"
  }
 },
 "nbformat": 4,
 "nbformat_minor": 2
}
