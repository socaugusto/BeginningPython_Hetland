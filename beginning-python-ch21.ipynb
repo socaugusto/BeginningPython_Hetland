{
 "cells": [
  {
   "cell_type": "code",
   "execution_count": 4,
   "metadata": {},
   "outputs": [],
   "source": [
    "import reportlab\n",
    "from reportlab.graphics.shapes import Drawing, String\n",
    "from reportlab.graphics import renderPDF\n",
    "\n",
    "data = [\n",
    "# Year Month Predicted High Low\n",
    "(2016, 3, 30.9, 31.9, 29.9),\n",
    "(2016, 4, 30.5, 32.5, 28.5),\n",
    "(2016, 5, 30.4, 33.4, 27.4),\n",
    "(2016, 6, 30.3, 35.3, 25.3),\n",
    "(2016, 7, 30.2, 35.2, 25.2)\n",
    "]\n",
    "\n",
    "d = Drawing(100, 100)\n",
    "s = String(50, 50, 'Hello, world!', textAnchor='middle')\n",
    "d.add(s)\n",
    "\n",
    "pred = [row[2] for row in data]\n",
    "drawing.add(PolyLine(list(zip(times, pred)), strokeColor=colors.blue))\n",
    "\n",
    "renderPDF.drawToFile(d, 'Chapter21/hello.pdf', 'A simple PDF file')\n"
   ]
  },
  {
   "cell_type": "code",
   "execution_count": null,
   "metadata": {},
   "outputs": [],
   "source": [
    "import os\n",
    "os.system('python Chapter21/sunspots_proto.py')"
   ]
  },
  {
   "cell_type": "code",
   "execution_count": null,
   "metadata": {},
   "outputs": [],
   "source": [
    "import os\n",
    "os.system('python Chapter21/sunspots.py')"
   ]
  }
 ],
 "metadata": {
  "kernelspec": {
   "display_name": ".venv",
   "language": "python",
   "name": "python3"
  },
  "language_info": {
   "codemirror_mode": {
    "name": "ipython",
    "version": 3
   },
   "file_extension": ".py",
   "mimetype": "text/x-python",
   "name": "python",
   "nbconvert_exporter": "python",
   "pygments_lexer": "ipython3",
   "version": "3.10.12"
  }
 },
 "nbformat": 4,
 "nbformat_minor": 2
}
