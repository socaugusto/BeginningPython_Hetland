{
 "cells": [
  {
   "cell_type": "code",
   "execution_count": 2,
   "metadata": {},
   "outputs": [],
   "source": [
    "f = open('somefile.txt', 'w')\n",
    "f.write('Hello, ')\n",
    "f.write('World!')\n",
    "f.close()"
   ]
  },
  {
   "cell_type": "code",
   "execution_count": 4,
   "metadata": {},
   "outputs": [
    {
     "name": "stdout",
     "output_type": "stream",
     "text": [
      "Hell\n",
      "o, World!\n"
     ]
    }
   ],
   "source": [
    "f = open('somefile.txt', 'r')\n",
    "print(f.read(4))\n",
    "print(f.read())\n",
    "f.close()"
   ]
  },
  {
   "cell_type": "code",
   "execution_count": 7,
   "metadata": {},
   "outputs": [
    {
     "name": "stdout",
     "output_type": "stream",
     "text": [
      "Wordcount: 11\n"
     ]
    },
    {
     "data": {
      "text/plain": [
       "0"
      ]
     },
     "execution_count": 7,
     "metadata": {},
     "output_type": "execute_result"
    }
   ],
   "source": [
    "import os\n",
    "\n",
    "os.system('cat somefile2.txt | python somescript.py')"
   ]
  },
  {
   "cell_type": "code",
   "execution_count": 12,
   "metadata": {},
   "outputs": [
    {
     "name": "stdout",
     "output_type": "stream",
     "text": [
      "01234Hello, World!89\n"
     ]
    }
   ],
   "source": [
    "f = open(r'somefile3.txt', 'w')\n",
    "f.write('01234567890123456789')\n",
    "f.seek(5)\n",
    "f.write('Hello, World!')\n",
    "f.close()\n",
    "f = open(r'somefile3.txt')\n",
    "print(f.read())\n",
    "f.close()"
   ]
  },
  {
   "cell_type": "code",
   "execution_count": 13,
   "metadata": {},
   "outputs": [
    {
     "name": "stdout",
     "output_type": "stream",
     "text": [
      "You\n",
      "r \n",
      "5\n"
     ]
    }
   ],
   "source": [
    "f = open(r'somefile2.txt')\n",
    "print(f.read(3))\n",
    "print(f.read(2))\n",
    "print(f.tell())\n",
    "\n"
   ]
  },
  {
   "cell_type": "raw",
   "metadata": {
    "vscode": {
     "languageId": "raw"
    }
   },
   "source": [
    "Open your file here\n",
    "    try:\n",
    "        # Write data to your file\n",
    "    finally:\n",
    "        file.close()\n",
    "\n",
    "with open(\"somefile.txt\") as somefile:\n",
    "    do_something(somefile)"
   ]
  },
  {
   "cell_type": "code",
   "execution_count": 1,
   "metadata": {},
   "outputs": [
    {
     "name": "stdout",
     "output_type": "stream",
     "text": [
      "Welcome\n",
      " to \n"
     ]
    },
    {
     "data": {
      "text/plain": [
       "<function TextIOWrapper.close()>"
      ]
     },
     "execution_count": 1,
     "metadata": {},
     "output_type": "execute_result"
    }
   ],
   "source": [
    "f = open(r'somefile4.txt')\n",
    "print(f.read(7))\n",
    "print(f.read(4))\n",
    "f.close\n"
   ]
  },
  {
   "cell_type": "code",
   "execution_count": 2,
   "metadata": {},
   "outputs": [
    {
     "name": "stdout",
     "output_type": "stream",
     "text": [
      "Welcome to this file\n",
      "There is nothing here except\n",
      "This stupid haiku\n"
     ]
    },
    {
     "data": {
      "text/plain": [
       "<function TextIOWrapper.close()>"
      ]
     },
     "execution_count": 2,
     "metadata": {},
     "output_type": "execute_result"
    }
   ],
   "source": [
    "f = open(r'somefile4.txt')\n",
    "print(f.read())\n",
    "f.close\n"
   ]
  },
  {
   "cell_type": "code",
   "execution_count": 3,
   "metadata": {},
   "outputs": [
    {
     "name": "stdout",
     "output_type": "stream",
     "text": [
      "0: Welcome to this file\n",
      "1: There is nothing here except\n",
      "2: This stupid haiku"
     ]
    },
    {
     "data": {
      "text/plain": [
       "<function TextIOWrapper.close()>"
      ]
     },
     "execution_count": 3,
     "metadata": {},
     "output_type": "execute_result"
    }
   ],
   "source": [
    "f = open(r'somefile4.txt')\n",
    "for i in range(3):\n",
    "    print(str(i) + ': ' + f.readline(), end='')\n",
    "f.close\n"
   ]
  },
  {
   "cell_type": "code",
   "execution_count": 4,
   "metadata": {},
   "outputs": [
    {
     "name": "stdout",
     "output_type": "stream",
     "text": [
      "['Welcome to this file\\n',\n",
      " 'There is nothing here except\\n',\n",
      " 'This stupid haiku']\n"
     ]
    }
   ],
   "source": [
    "import pprint\n",
    "pprint.pprint(open(r'somefile4.txt').readlines())"
   ]
  },
  {
   "cell_type": "code",
   "execution_count": 5,
   "metadata": {},
   "outputs": [],
   "source": [
    "f = open(r'somefile4.txt', 'w')\n",
    "f.write('this\\nis no\\nhaiku')\n",
    "f.close()"
   ]
  },
  {
   "cell_type": "code",
   "execution_count": 8,
   "metadata": {},
   "outputs": [
    {
     "name": "stdout",
     "output_type": "stream",
     "text": [
      "Processing: t\n",
      "Processing: h\n",
      "Processing: i\n",
      "Processing: s\n",
      "Processing: \n",
      "\n",
      "Processing: i\n",
      "Processing: s\n",
      "Processing:  \n",
      "Processing: n\n",
      "Processing: o\n",
      "Processing: \n",
      "\n",
      "Processing: h\n",
      "Processing: a\n",
      "Processing: i\n",
      "Processing: k\n",
      "Processing: u\n"
     ]
    }
   ],
   "source": [
    "def process(string):\n",
    "    print('Processing:', string)\n",
    "\n",
    "filename = r'somefile4.txt'\n",
    "\n",
    "with open(filename) as f:\n",
    "    char = f.read(1)\n",
    "    while char:\n",
    "        process(char)\n",
    "        char = f.read(1)\n",
    "\n",
    "with open(filename) as f:\n",
    "    for char in f.read():\n",
    "        process(char)\n",
    "\n"
   ]
  },
  {
   "cell_type": "code",
   "execution_count": 10,
   "metadata": {},
   "outputs": [
    {
     "name": "stdout",
     "output_type": "stream",
     "text": [
      "Processing: this\n",
      "\n",
      "Processing: is no\n",
      "\n",
      "Processing: haiku\n",
      "Processing: this\n",
      "\n",
      "Processing: is no\n",
      "\n",
      "Processing: haiku\n"
     ]
    }
   ],
   "source": [
    "import fileinput\n",
    "def process(string):\n",
    "    print('Processing:', string)\n",
    "\n",
    "filename = r'somefile4.txt'\n",
    "\n",
    "for line in fileinput.input(filename):\n",
    "    process(line)\n",
    "\n",
    "with open(filename) as f:\n",
    "    for line in f:\n",
    "        process(line)"
   ]
  },
  {
   "cell_type": "code",
   "execution_count": null,
   "metadata": {},
   "outputs": [],
   "source": [
    "import sys\n",
    "for line in sys.stdin:\n",
    "    process(line)"
   ]
  }
 ],
 "metadata": {
  "kernelspec": {
   "display_name": ".venv",
   "language": "python",
   "name": "python3"
  },
  "language_info": {
   "codemirror_mode": {
    "name": "ipython",
    "version": 3
   },
   "file_extension": ".py",
   "mimetype": "text/x-python",
   "name": "python",
   "nbconvert_exporter": "python",
   "pygments_lexer": "ipython3",
   "version": "3.10.12"
  }
 },
 "nbformat": 4,
 "nbformat_minor": 2
}
