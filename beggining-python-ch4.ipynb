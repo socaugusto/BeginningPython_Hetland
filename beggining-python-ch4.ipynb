{
 "cells": [
  {
   "cell_type": "markdown",
   "metadata": {},
   "source": [
    "# Dictionaries: When Indices Won’t Do"
   ]
  },
  {
   "cell_type": "code",
   "execution_count": 3,
   "metadata": {},
   "outputs": [
    {
     "name": "stdout",
     "output_type": "stream",
     "text": [
      "3158\n",
      "3258\n"
     ]
    }
   ],
   "source": [
    "names = ['Alice', 'Beth', 'Cecil', 'Dee-Dee', 'Earl']\n",
    "numbers = ['2341', '9102', '3158', '0142', '5551']\n",
    "print(numbers[names.index('Cecil')])\n",
    "\n",
    "phonebook = {'Alice': '2341', 'Beth': '9102', 'Cecil': '3258'}\n",
    "print(phonebook['Cecil'])"
   ]
  },
  {
   "cell_type": "code",
   "execution_count": 6,
   "metadata": {},
   "outputs": [
    {
     "name": "stdout",
     "output_type": "stream",
     "text": [
      "{'name': 'Gumby', 'age': 42}\n",
      "Gumby\n",
      "{'name': 'Gumby', 'age': 42}\n"
     ]
    }
   ],
   "source": [
    "items = [('name', 'Gumby'), ('age', 42)]\n",
    "d = dict(items)\n",
    "print(d)\n",
    "print(d['name'])\n",
    "\n",
    "d1 = dict(name='Gumby', age=42)\n",
    "print(d1)"
   ]
  },
  {
   "cell_type": "markdown",
   "metadata": {},
   "source": [
    "The basic behavior of a dictionary in many ways mirrors that of a sequence.\n",
    "* len(d) returns the number of items (key-value pairs) in d.\n",
    "* d[k] returns the value associated with the key k.\n",
    "* d[k] = v associates the value v with the key k.\n",
    "* del d[k] deletes the item with key k.\n",
    "* k in d checks whether there is an item in d that has the key k."
   ]
  },
  {
   "cell_type": "code",
   "execution_count": 8,
   "metadata": {},
   "outputs": [
    {
     "name": "stdout",
     "output_type": "stream",
     "text": [
      "Alice's phone number is 2341.\n"
     ]
    }
   ],
   "source": [
    "people = {\n",
    "    'Alice': {\n",
    "        'phone': '2341',\n",
    "        'addr': 'Foo drive 23'\n",
    "    },\n",
    "    'Beth': {\n",
    "        'phone': '9102',\n",
    "        'addr': 'Bar street 42'\n",
    "    },\n",
    "    'Cecil': {\n",
    "        'phone': '3158',\n",
    "        'addr': 'Baz avenue 90'\n",
    "    }\n",
    "}\n",
    "\n",
    "labels = {\n",
    "    'phone': 'phone number',\n",
    "    'addr': 'address'\n",
    "}\n",
    "\n",
    "name = input('Name: ')\n",
    "\n",
    "request = input('Phone number (p) or address (a)? ')\n",
    "\n",
    "if request == 'p': \n",
    "    key = 'phone'\n",
    "if request == 'a': \n",
    "    key = 'addr'\n",
    "\n",
    "if name in people: \n",
    "    print(\"{}'s {} is {}.\".format(name, labels[key], people[name][key]))"
   ]
  },
  {
   "cell_type": "code",
   "execution_count": 9,
   "metadata": {},
   "outputs": [
    {
     "name": "stdout",
     "output_type": "stream",
     "text": [
      "{'name': 'Gumby', 'age': 42}\n",
      "{}\n",
      "None\n"
     ]
    }
   ],
   "source": [
    "d = {}\n",
    "d['name'] = 'Gumby'\n",
    "d['age'] = 42\n",
    "print(d)\n",
    "returned_value = d.clear()\n",
    "print(d)\n",
    "print(returned_value)"
   ]
  },
  {
   "cell_type": "code",
   "execution_count": 11,
   "metadata": {},
   "outputs": [
    {
     "name": "stdout",
     "output_type": "stream",
     "text": [
      "{'username': 'admin', 'machines': ['foo', 'baz']}\n",
      "{'username': 'mlh', 'machines': ['foo', 'baz']}\n"
     ]
    }
   ],
   "source": [
    "x = {'username': 'admin', 'machines': ['foo', 'bar', 'baz']}\n",
    "y = x.copy()\n",
    "y['username'] = 'mlh'\n",
    "y['machines'].remove('bar')\n",
    "print(x)\n",
    "print(y)"
   ]
  },
  {
   "cell_type": "code",
   "execution_count": 13,
   "metadata": {},
   "outputs": [
    {
     "name": "stdout",
     "output_type": "stream",
     "text": [
      "{'names': ['Alfred', 'Bertrand', 'Clive']}\n",
      "{'names': ['Alfred', 'Bertrand']}\n"
     ]
    }
   ],
   "source": [
    "from copy import deepcopy\n",
    "d = {}\n",
    "d['names'] = ['Alfred', 'Bertrand']\n",
    "c = d.copy()\n",
    "dc = deepcopy(d)\n",
    "d['names'].append('Clive')\n",
    "print(c)\n",
    "print(dc)"
   ]
  },
  {
   "cell_type": "code",
   "execution_count": 14,
   "metadata": {},
   "outputs": [
    {
     "data": {
      "text/plain": [
       "{'name': None, 'age': None}"
      ]
     },
     "execution_count": 14,
     "metadata": {},
     "output_type": "execute_result"
    }
   ],
   "source": [
    "{}.fromkeys(['name', 'age'])"
   ]
  },
  {
   "cell_type": "code",
   "execution_count": 15,
   "metadata": {},
   "outputs": [
    {
     "data": {
      "text/plain": [
       "{'name': None, 'age': None}"
      ]
     },
     "execution_count": 15,
     "metadata": {},
     "output_type": "execute_result"
    }
   ],
   "source": [
    "dict.fromkeys(['name', 'age'])"
   ]
  },
  {
   "cell_type": "code",
   "execution_count": 16,
   "metadata": {},
   "outputs": [
    {
     "data": {
      "text/plain": [
       "{'name': '(unknown)', 'age': '(unknown)'}"
      ]
     },
     "execution_count": 16,
     "metadata": {},
     "output_type": "execute_result"
    }
   ],
   "source": [
    "dict.fromkeys(['name', 'age'], '(unknown)')"
   ]
  },
  {
   "cell_type": "code",
   "execution_count": 20,
   "metadata": {},
   "outputs": [
    {
     "name": "stdout",
     "output_type": "stream",
     "text": [
      "None\n",
      "N/A\n",
      "Eric\n"
     ]
    }
   ],
   "source": [
    "d = {}\n",
    "# Triggers error\n",
    "# print(d['name'])\n",
    "print(d.get('name'))\n",
    "print(d.get('name', 'N/A'))\n",
    "d['name'] = 'Eric'\n",
    "print(d.get('name'))\n",
    "\n"
   ]
  },
  {
   "cell_type": "code",
   "execution_count": 21,
   "metadata": {},
   "outputs": [
    {
     "name": "stdout",
     "output_type": "stream",
     "text": [
      "Silvio's address is not available.\n"
     ]
    }
   ],
   "source": [
    "labels = {\n",
    "    'phone': 'phone number',\n",
    "    'addr': 'address'\n",
    "}\n",
    "\n",
    "name = input('Name: ')\n",
    "\n",
    "request = input('Phone number (p) or address (a)? ')\n",
    "\n",
    "key = request # In case the request is neither 'p' nor 'a'\n",
    "if request == 'p': \n",
    "    key = 'phone'\n",
    "if request == 'a': \n",
    "    key = 'addr'\n",
    "\n",
    "person = people.get(name, {})\n",
    "label = labels.get(key, key)\n",
    "result = person.get(key, 'not available')\n",
    "\n",
    "print(\"{}'s {} is {}.\".format(name, label, result))"
   ]
  },
  {
   "cell_type": "code",
   "execution_count": 23,
   "metadata": {},
   "outputs": [
    {
     "name": "stdout",
     "output_type": "stream",
     "text": [
      "dict_items([('title', 'Python Web Site'), ('url', 'http://www.python.org'), ('spam', 0)])\n",
      "3\n"
     ]
    }
   ],
   "source": [
    "d = {'title': 'Python Web Site', 'url': 'http://www.python.org', 'spam': 0}\n",
    "print(d.items())\n",
    "\n",
    "it = d.items()\n",
    "print(len(it))"
   ]
  },
  {
   "cell_type": "code",
   "execution_count": 24,
   "metadata": {},
   "outputs": [
    {
     "name": "stdout",
     "output_type": "stream",
     "text": [
      "{'y': 2}\n"
     ]
    }
   ],
   "source": [
    "d = {'x': 1, 'y': 2}\n",
    "d.pop('x')\n",
    "print(d)"
   ]
  },
  {
   "cell_type": "code",
   "execution_count": 25,
   "metadata": {},
   "outputs": [
    {
     "name": "stdout",
     "output_type": "stream",
     "text": [
      "{'title': 'Python Language Website', 'url': 'http://www.python.org', 'changed': 'Mar 14 22:09:15 MET 2016'}\n"
     ]
    }
   ],
   "source": [
    "d = {\n",
    "    'title': 'Python Web Site',\n",
    "    'url': 'http://www.python.org',\n",
    "    'changed': 'Mar 14 22:09:15 MET 2016'\n",
    "}\n",
    "x = {'title': 'Python Language Website'}\n",
    "d.update(x)\n",
    "print(d)"
   ]
  },
  {
   "cell_type": "code",
   "execution_count": 26,
   "metadata": {},
   "outputs": [
    {
     "name": "stdout",
     "output_type": "stream",
     "text": [
      "dict_values([1, 2, 3, 4])\n"
     ]
    }
   ],
   "source": [
    "d = {}\n",
    "d[1] = 1\n",
    "d[2] = 2\n",
    "d[3] = 3\n",
    "d[4] = 4\n",
    "print(d.values())"
   ]
  }
 ],
 "metadata": {
  "kernelspec": {
   "display_name": ".venv",
   "language": "python",
   "name": "python3"
  },
  "language_info": {
   "codemirror_mode": {
    "name": "ipython",
    "version": 3
   },
   "file_extension": ".py",
   "mimetype": "text/x-python",
   "name": "python",
   "nbconvert_exporter": "python",
   "pygments_lexer": "ipython3",
   "version": "3.10.12"
  }
 },
 "nbformat": 4,
 "nbformat_minor": 2
}
