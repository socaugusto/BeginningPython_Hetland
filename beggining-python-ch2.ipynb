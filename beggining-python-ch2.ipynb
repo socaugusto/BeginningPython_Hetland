{
 "cells": [
  {
   "cell_type": "markdown",
   "metadata": {},
   "source": [
    "# Beginning Python Chapter 2"
   ]
  },
  {
   "cell_type": "code",
   "execution_count": 2,
   "metadata": {},
   "outputs": [
    {
     "name": "stdout",
     "output_type": "stream",
     "text": [
      "['Edward Gumby', 42]\n",
      "[['Edward Gumby', 42], ['John Smith', 50]]\n"
     ]
    }
   ],
   "source": [
    "edward = ['Edward Gumby', 42]\n",
    "print(edward)\n",
    "\n",
    "john = ['John Smith', 50]\n",
    "database = [edward, john]\n",
    "print(database)"
   ]
  },
  {
   "cell_type": "code",
   "execution_count": 6,
   "metadata": {},
   "outputs": [
    {
     "name": "stdout",
     "output_type": "stream",
     "text": [
      "H\n",
      "o\n",
      "5\n"
     ]
    }
   ],
   "source": [
    "greeting = 'Hello'\n",
    "print(greeting[0])\n",
    "print(greeting[-1])\n",
    "\n",
    "fourth = input('Year: ')[3]\n",
    "print(fourth)\n"
   ]
  },
  {
   "cell_type": "code",
   "execution_count": 8,
   "metadata": {},
   "outputs": [
    {
     "name": "stdout",
     "output_type": "stream",
     "text": [
      "January 17th, 2005\n"
     ]
    }
   ],
   "source": [
    "# Print out a date, given year, month, and day as numbers\n",
    "\n",
    "months = [\n",
    "    'January',\n",
    "    'February',\n",
    "    'March',\n",
    "    'April',\n",
    "    'May',\n",
    "    'June',\n",
    "    'July',\n",
    "    'August',\n",
    "    'September',\n",
    "    'October',\n",
    "    'November',\n",
    "    'December'\n",
    "]\n",
    "\n",
    "# A list with one ending for each number from 1 to 31\n",
    "endings = ['st', 'nd', 'rd'] + 17 * ['th'] \\\n",
    "        + ['st', 'nd', 'rd'] +  7 * ['th'] \\\n",
    "        + ['st']\n",
    "\n",
    "year    = input('Year: ')\n",
    "month   = input('Month  (1-12): ')\n",
    "day     = input('Day (1-31): ')\n",
    "\n",
    "month_number = int(month)\n",
    "day_number = int(day)\n",
    "\n",
    "# Remember to subtract 1 from month and day to get a correct index\n",
    "month_name = months[month_number-1]\n",
    "ordinal = day + endings[day_number-1]\n",
    "\n",
    "print(month_name + ' ' + ordinal + ', ' + year)"
   ]
  },
  {
   "cell_type": "code",
   "execution_count": 11,
   "metadata": {},
   "outputs": [
    {
     "name": "stdout",
     "output_type": "stream",
     "text": [
      "http://www.python.org\n"
     ]
    }
   ],
   "source": [
    "tag = '<a href=\"http://www.python.org\">Python web site</a>'\n",
    "print(tag[9:30])\n"
   ]
  },
  {
   "cell_type": "code",
   "execution_count": 12,
   "metadata": {},
   "outputs": [
    {
     "name": "stdout",
     "output_type": "stream",
     "text": [
      "Domain name: python\n"
     ]
    }
   ],
   "source": [
    "# Split up a URL of the form http://www.something.com\n",
    "\n",
    "url = input('Please enter the URL:')\n",
    "domain = url[11:-4]\n",
    "\n",
    "print(\"Domain name: \" + domain)"
   ]
  },
  {
   "cell_type": "code",
   "execution_count": 22,
   "metadata": {},
   "outputs": [
    {
     "name": "stdout",
     "output_type": "stream",
     "text": [
      "[1, 3, 5, 7, 9]\n",
      "[4]\n",
      "[10, 9, 8, 7, 6, 5, 4, 3, 2, 1]\n"
     ]
    }
   ],
   "source": [
    "numbers = [1, 2, 3, 4, 5, 6, 7, 8, 9, 10]\n",
    "print(numbers[0:10:2])\n",
    "print(numbers[3:6:3])\n",
    "print(numbers[::-1])\n"
   ]
  },
  {
   "cell_type": "code",
   "execution_count": 25,
   "metadata": {},
   "outputs": [
    {
     "name": "stdout",
     "output_type": "stream",
     "text": [
      "[1, 2, 3, 4, 5, 6]\n",
      "Hello, world!\n",
      "pythonpythonpythonpythonpython\n"
     ]
    }
   ],
   "source": [
    "print([1, 2, 3] + [4, 5, 6])\n",
    "print('Hello, ' + 'world!')\n",
    "\n",
    "print('python'*5)"
   ]
  },
  {
   "cell_type": "code",
   "execution_count": 26,
   "metadata": {},
   "outputs": [
    {
     "name": "stdout",
     "output_type": "stream",
     "text": [
      "\n",
      "                         +----------------------------+\n",
      "                         |                            |\n",
      "                         |  He's a very naughty boy!  |\n",
      "                         |                            |\n",
      "                         +----------------------------+\n",
      "\n"
     ]
    }
   ],
   "source": [
    "# Prints a sentence in a centered \"box\" of correct width\n",
    "\n",
    "sentence = input(\"Sentence: \")\n",
    "\n",
    "screen_width = 80\n",
    "text_width   = len(sentence)\n",
    "box_width    = text_width + 6\n",
    "left_margin  = (screen_width - box_width) // 2\n",
    "\n",
    "print()\n",
    "print(' ' * left_margin + '+'   + '-' * (box_width-2)  +   '+')\n",
    "print(' ' * left_margin + '|  ' + ' ' * text_width     + '  |')\n",
    "print(' ' * left_margin + '|  ' +       sentence       + '  |')\n",
    "print(' ' * left_margin + '|  ' + ' ' * text_width     + '  |')\n",
    "print(' ' * left_margin + '+'   + '-' * (box_width-2)  +   '+')\n",
    "print()"
   ]
  },
  {
   "cell_type": "code",
   "execution_count": 28,
   "metadata": {},
   "outputs": [
    {
     "name": "stdout",
     "output_type": "stream",
     "text": [
      "True\n",
      "False\n"
     ]
    }
   ],
   "source": [
    "permissions = 'rw'\n",
    "print('w' in permissions)\n",
    "print('x' in permissions)"
   ]
  },
  {
   "cell_type": "code",
   "execution_count": 32,
   "metadata": {},
   "outputs": [],
   "source": [
    "# Check a user name and PIN code\n",
    "\n",
    "database = [\n",
    "    ['albert',  '1234'],\n",
    "    ['dilbert', '4242'],\n",
    "    ['smith',   '7524'],\n",
    "    ['jones',   '9843']\n",
    "]\n",
    "\n",
    "username = input('User name: ')\n",
    "pin = input('PIN code: ')\n",
    "\n",
    "if [username, pin] in database: \n",
    "    print('Access granted')"
   ]
  },
  {
   "cell_type": "code",
   "execution_count": 35,
   "metadata": {},
   "outputs": [
    {
     "name": "stdout",
     "output_type": "stream",
     "text": [
      "3\n",
      "678\n",
      "34\n"
     ]
    }
   ],
   "source": [
    "numbers = [100, 34, 678]\n",
    "print(len(numbers))\n",
    "print(max(numbers))\n",
    "print(min(numbers))"
   ]
  },
  {
   "cell_type": "code",
   "execution_count": 38,
   "metadata": {},
   "outputs": [
    {
     "name": "stdout",
     "output_type": "stream",
     "text": [
      "['H', 'e', 'l', 'l', 'o']\n",
      "Silvio\n"
     ]
    }
   ],
   "source": [
    "print(list('Hello'))\n",
    "\n",
    "silvio = ['S', 'i', 'l', 'v', 'i', 'o']\n",
    "print(''.join(silvio))"
   ]
  },
  {
   "cell_type": "code",
   "execution_count": 40,
   "metadata": {},
   "outputs": [
    {
     "name": "stdout",
     "output_type": "stream",
     "text": [
      "['Alice', 'Beth', 'Cecil', 'Dee-Dee', 'Earl']\n",
      "['Alice', 'Beth', 'Dee-Dee', 'Earl']\n",
      "['P', 'e', 'a', 'r']\n"
     ]
    }
   ],
   "source": [
    "names = ['Alice', 'Beth', 'Cecil', 'Dee-Dee', 'Earl']\n",
    "print(names)\n",
    "del names[2]\n",
    "print(names)\n",
    "\n",
    "name = list('Perl')\n",
    "name[2:] = list('ar')\n",
    "print(name)"
   ]
  },
  {
   "cell_type": "code",
   "execution_count": 43,
   "metadata": {},
   "outputs": [
    {
     "name": "stdout",
     "output_type": "stream",
     "text": [
      "[1, 2, 3, 4]\n",
      "[]\n",
      "[1, 2, 3]\n",
      "[1, 4, 3]\n"
     ]
    }
   ],
   "source": [
    "lst = [1,2,3]\n",
    "lst.append(4)\n",
    "print(lst)\n",
    "lst.clear()\n",
    "print(lst)\n",
    "\n",
    "a = [1,2,3]\n",
    "b=a.copy()\n",
    "b[1] = 4\n",
    "print(a)\n",
    "print(b)"
   ]
  },
  {
   "cell_type": "code",
   "execution_count": null,
   "metadata": {},
   "outputs": [],
   "source": [
    "print(['to', 'be', 'or', 'not', 'to', 'be'].count('to'))\n"
   ]
  },
  {
   "cell_type": "code",
   "execution_count": 44,
   "metadata": {},
   "outputs": [
    {
     "name": "stdout",
     "output_type": "stream",
     "text": [
      "[1, 2, 3, 4, 5, 6]\n"
     ]
    }
   ],
   "source": [
    "a = [1, 2, 3]\n",
    "b = [4, 5, 6]\n",
    "a.extend(b)\n",
    "print(a)"
   ]
  },
  {
   "cell_type": "code",
   "execution_count": 45,
   "metadata": {},
   "outputs": [
    {
     "name": "stdout",
     "output_type": "stream",
     "text": [
      "4\n"
     ]
    }
   ],
   "source": [
    "knights = ['We', 'are', 'the', 'knights', 'who', 'say', 'ni']\n",
    "print(knights.index('who'))"
   ]
  },
  {
   "cell_type": "code",
   "execution_count": 46,
   "metadata": {},
   "outputs": [
    {
     "name": "stdout",
     "output_type": "stream",
     "text": [
      "3\n",
      "[1, 2]\n"
     ]
    }
   ],
   "source": [
    "x = [1, 2, 3]\n",
    "print(x.pop())\n",
    "print(x)"
   ]
  },
  {
   "cell_type": "code",
   "execution_count": 48,
   "metadata": {},
   "outputs": [
    {
     "name": "stdout",
     "output_type": "stream",
     "text": [
      "['to', 'be', 'or', 'not', 'to', 'be']\n",
      "['to', 'or', 'not', 'to', 'be']\n"
     ]
    }
   ],
   "source": [
    "x = ['to', 'be', 'or', 'not', 'to', 'be']\n",
    "print(x)\n",
    "x.remove('be')\n",
    "print(x)\n"
   ]
  },
  {
   "cell_type": "code",
   "execution_count": 49,
   "metadata": {},
   "outputs": [
    {
     "name": "stdout",
     "output_type": "stream",
     "text": [
      "[1, 2, 3]\n",
      "[3, 2, 1]\n"
     ]
    }
   ],
   "source": [
    "x = [1, 2, 3]\n",
    "print(x)\n",
    "x.reverse()\n",
    "print(x)\n"
   ]
  },
  {
   "cell_type": "code",
   "execution_count": 51,
   "metadata": {},
   "outputs": [
    {
     "name": "stdout",
     "output_type": "stream",
     "text": [
      "[1, 2, 4, 6, 7, 9]\n"
     ]
    }
   ],
   "source": [
    "x=[4,6,2,1,7,9]\n",
    "x.sort()\n",
    "print(x)"
   ]
  },
  {
   "cell_type": "code",
   "execution_count": 53,
   "metadata": {},
   "outputs": [
    {
     "name": "stdout",
     "output_type": "stream",
     "text": [
      "['add', 'acme', 'aerate', 'abalone', 'aardvark']\n",
      "[4, 6, 2, 1, 7, 9]\n",
      "[9, 7, 6, 4, 2, 1]\n"
     ]
    }
   ],
   "source": [
    "x = ['aardvark', 'abalone', 'acme', 'add', 'aerate']\n",
    "x.sort(key=len)\n",
    "print(x)\n",
    "x = [4, 6, 2, 1, 7, 9]\n",
    "print(x)\n",
    "x.sort(reverse=True)\n",
    "print(x)\n",
    "\n"
   ]
  },
  {
   "cell_type": "code",
   "execution_count": 55,
   "metadata": {},
   "outputs": [
    {
     "data": {
      "text/plain": [
       "(1, 2, 3)"
      ]
     },
     "execution_count": 55,
     "metadata": {},
     "output_type": "execute_result"
    }
   ],
   "source": [
    "1,2,3"
   ]
  },
  {
   "cell_type": "code",
   "execution_count": 61,
   "metadata": {},
   "outputs": [
    {
     "name": "stdout",
     "output_type": "stream",
     "text": [
      "(1, 2, 3)\n",
      "()\n",
      "(42,)\n",
      "(42, 42, 42)\n"
     ]
    }
   ],
   "source": [
    "print((1,2,3))\n",
    "print(())\n",
    "print((42,))\n",
    "print(3*(40+2,))\n"
   ]
  },
  {
   "cell_type": "code",
   "execution_count": 65,
   "metadata": {},
   "outputs": [
    {
     "name": "stdout",
     "output_type": "stream",
     "text": [
      "(1, 2, 3)\n",
      "('a', 'b', 'c')\n"
     ]
    }
   ],
   "source": [
    "print(tuple([1,2,3]))\n",
    "print(tuple('abc'))"
   ]
  }
 ],
 "metadata": {
  "kernelspec": {
   "display_name": ".venv",
   "language": "python",
   "name": "python3"
  },
  "language_info": {
   "codemirror_mode": {
    "name": "ipython",
    "version": 3
   },
   "file_extension": ".py",
   "mimetype": "text/x-python",
   "name": "python",
   "nbconvert_exporter": "python",
   "pygments_lexer": "ipython3",
   "version": "3.10.12"
  }
 },
 "nbformat": 4,
 "nbformat_minor": 2
}
