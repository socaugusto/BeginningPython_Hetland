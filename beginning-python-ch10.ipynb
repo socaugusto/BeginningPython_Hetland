{
 "cells": [
  {
   "cell_type": "code",
   "execution_count": 2,
   "metadata": {},
   "outputs": [
    {
     "data": {
      "text/plain": [
       "0.0"
      ]
     },
     "execution_count": 2,
     "metadata": {},
     "output_type": "execute_result"
    }
   ],
   "source": [
    "import math\n",
    "math.sin(0)"
   ]
  },
  {
   "cell_type": "code",
   "execution_count": 3,
   "metadata": {},
   "outputs": [
    {
     "name": "stdout",
     "output_type": "stream",
     "text": [
      "Hello, world!\n"
     ]
    }
   ],
   "source": [
    "import sys\n",
    "sys.path.append('/home/socaugusto/dev/learning/BeginningPython_Hetland')\n",
    "\n",
    "import hello4\n",
    "hello4.hello() "
   ]
  },
  {
   "cell_type": "code",
   "execution_count": 2,
   "metadata": {},
   "outputs": [
    {
     "name": "stdout",
     "output_type": "stream",
     "text": [
      "['/usr/lib/python310.zip',\n",
      " '/usr/lib/python3.10',\n",
      " '/usr/lib/python3.10/lib-dynload',\n",
      " '',\n",
      " '/home/socaugusto/dev/learning/BeginningPython_Hetland/.venv/lib/python3.10/site-packages']\n"
     ]
    }
   ],
   "source": [
    "import sys, pprint\n",
    "pprint.pprint(sys.path)"
   ]
  },
  {
   "cell_type": "markdown",
   "metadata": {},
   "source": [
    "### Environment Variables\n",
    "\n",
    "Environment variables are not part of the Python interpreter—they’re part of your operating system.\n",
    "Basically, they are like Python variables, but they are set outside the Python interpreter. Let’s say you’re\n",
    "using the bash shell, which is available on most UNIX-like systems, macOS, and recent versions of\n",
    "Windows. You could then execute the following statement to append ~/python to your PYTHONPATH\n",
    "environment variable:\n",
    "\n",
    "export PYTHONPATH=$PYTHONPATH:~/python\n",
    "\n",
    "If you’d like the statement to be executed for all shells you start, you could add it to the .bashrc file in\n",
    "your home directory. For instructions on editing environment variables in other ways, you should consult\n",
    "your system documentation."
   ]
  },
  {
   "cell_type": "code",
   "execution_count": 2,
   "metadata": {},
   "outputs": [
    {
     "data": {
      "text/plain": [
       "['Error',\n",
       " '__all__',\n",
       " '__builtins__',\n",
       " '__cached__',\n",
       " '__doc__',\n",
       " '__file__',\n",
       " '__loader__',\n",
       " '__name__',\n",
       " '__package__',\n",
       " '__spec__',\n",
       " '_copy_dispatch',\n",
       " '_copy_immutable',\n",
       " '_deepcopy_atomic',\n",
       " '_deepcopy_dict',\n",
       " '_deepcopy_dispatch',\n",
       " '_deepcopy_list',\n",
       " '_deepcopy_method',\n",
       " '_deepcopy_tuple',\n",
       " '_keep_alive',\n",
       " '_reconstruct',\n",
       " 'copy',\n",
       " 'deepcopy',\n",
       " 'dispatch_table',\n",
       " 'error']"
      ]
     },
     "execution_count": 2,
     "metadata": {},
     "output_type": "execute_result"
    }
   ],
   "source": [
    "import copy\n",
    "dir(copy)"
   ]
  },
  {
   "cell_type": "code",
   "execution_count": 5,
   "metadata": {},
   "outputs": [
    {
     "name": "stdout",
     "output_type": "stream",
     "text": [
      "['Error', 'copy', 'deepcopy', 'dispatch_table', 'error']\n",
      "['Error', 'copy', 'deepcopy']\n"
     ]
    }
   ],
   "source": [
    "import copy\n",
    "print([n for n in dir(copy) if not n.startswith('_')])\n",
    "\n",
    "print(copy.__all__)"
   ]
  },
  {
   "cell_type": "code",
   "execution_count": 6,
   "metadata": {},
   "outputs": [
    {
     "name": "stdout",
     "output_type": "stream",
     "text": [
      "Help on function copy in module copy:\n",
      "\n",
      "copy(x)\n",
      "    Shallow copy operation on arbitrary Python objects.\n",
      "    \n",
      "    See the module's __doc__ string for more info.\n",
      "\n"
     ]
    }
   ],
   "source": [
    "help(copy.copy)"
   ]
  },
  {
   "cell_type": "code",
   "execution_count": 7,
   "metadata": {},
   "outputs": [
    {
     "name": "stdout",
     "output_type": "stream",
     "text": [
      "Shallow copy operation on arbitrary Python objects.\n",
      "\n",
      "    See the module's __doc__ string for more info.\n",
      "    \n"
     ]
    }
   ],
   "source": [
    "print(copy.copy.__doc__)"
   ]
  },
  {
   "cell_type": "code",
   "execution_count": 10,
   "metadata": {},
   "outputs": [
    {
     "name": "stdout",
     "output_type": "stream",
     "text": [
      "range(stop) -> range object\n",
      "range(start, stop[, step]) -> range object\n",
      "\n",
      "Return an object that produces a sequence of integers from start (inclusive)\n",
      "to stop (exclusive) by step.  range(i, j) produces i, i+1, i+2, ..., j-1.\n",
      "start defaults to 0, and stop is omitted!  range(4) produces 0, 1, 2, 3.\n",
      "These are exactly the valid indices for a list of 4 elements.\n",
      "When step is given, it specifies the increment (or decrement).\n",
      "[0, 1, 2, 3]\n"
     ]
    }
   ],
   "source": [
    "print(range.__doc__)"
   ]
  },
  {
   "cell_type": "code",
   "execution_count": 11,
   "metadata": {},
   "outputs": [
    {
     "name": "stdout",
     "output_type": "stream",
     "text": [
      "/usr/lib/python3.10/copy.py\n"
     ]
    }
   ],
   "source": [
    "print(copy.__file__)"
   ]
  },
  {
   "cell_type": "code",
   "execution_count": 24,
   "metadata": {},
   "outputs": [
    {
     "name": "stdout",
     "output_type": "stream",
     "text": [
      "['/usr/lib/python310.zip', '/usr/lib/python3.10', '/usr/lib/python3.10/lib-dynload', '', '/home/socaugusto/dev/learning/BeginningPython_Hetland/.venv/lib/python3.10/site-packages']\n",
      "/home/socaugusto/dev/learning/BeginningPython_Hetland/.venv/bin:/home/socaugusto/.vscode-server/bin/ea1445cc7016315d0f5728f8e8b12a45dc0a7286/bin/remote-cli:/usr/local/sbin:/usr/local/bin:/usr/sbin:/usr/bin:/sbin:/bin:/usr/games:/usr/local/games:/usr/lib/wsl/lib:/mnt/c/Program Files (x86)/NVIDIA Corporation/PhysX/Common:/mnt/c/windows/system32:/mnt/c/windows:/mnt/c/windows/System32/Wbem:/mnt/c/windows/System32/WindowsPowerShell/v1.0/:/mnt/c/windows/System32/OpenSSH/:/mnt/c/Program Files (x86)/Windows Kits/8.1/Windows Performance Toolkit/:/mnt/c/Program Files/dotnet/:/mnt/c/Program Files/Microsoft SQL Server/150/Tools/Binn/:/mnt/c/Program Files/usbipd-win/:/mnt/c/Users/Silvio/AppData/Local/Microsoft/WindowsApps:/mnt/c/Users/Silvio/AppData/Local/Programs/Microsoft VS Code/bin:/snap/bin\n"
     ]
    }
   ],
   "source": [
    "import sys\n",
    "print(sys.path)\n",
    "import os\n",
    "print(os.environ['PATH'])"
   ]
  },
  {
   "cell_type": "code",
   "execution_count": 25,
   "metadata": {},
   "outputs": [
    {
     "data": {
      "text/plain": [
       "True"
      ]
     },
     "execution_count": 25,
     "metadata": {},
     "output_type": "execute_result"
    },
    {
     "name": "stderr",
     "output_type": "stream",
     "text": [
      "/usr/bin/xdg-open: 882: x-www-browser: not found\n",
      "/usr/bin/xdg-open: 882: firefox: not found\n",
      "/usr/bin/xdg-open: 882: iceweasel: not found\n",
      "/usr/bin/xdg-open: 882: seamonkey: not found\n",
      "/usr/bin/xdg-open: 882: mozilla: not found\n",
      "/usr/bin/xdg-open: 882: epiphany: not found\n",
      "/usr/bin/xdg-open: 882: konqueror: not found\n",
      "/usr/bin/xdg-open: 882: chromium: not found\n",
      "/usr/bin/xdg-open: 882: chromium-browser: not found\n",
      "/usr/bin/xdg-open: 882: google-chrome: not found\n",
      "/usr/bin/xdg-open: 882: www-browser: not found\n",
      "/usr/bin/xdg-open: 882: links2: not found\n",
      "/usr/bin/xdg-open: 882: elinks: not found\n",
      "/usr/bin/xdg-open: 882: links: not found\n",
      "/usr/bin/xdg-open: 882: lynx: not found\n",
      "/usr/bin/xdg-open: 882: w3m: not found\n",
      "xdg-open: no method available for opening 'http://www.python.org'\n"
     ]
    }
   ],
   "source": [
    "import webbrowser\n",
    "webbrowser.open('http://www.python.org')"
   ]
  },
  {
   "cell_type": "code",
   "execution_count": 1,
   "metadata": {},
   "outputs": [
    {
     "name": "stdout",
     "output_type": "stream",
     "text": [
      "{0, 1, 2, 3, 4, 5, 6, 7, 8, 9}\n"
     ]
    }
   ],
   "source": [
    "print(set(range(10)))"
   ]
  },
  {
   "cell_type": "code",
   "execution_count": 2,
   "metadata": {},
   "outputs": [
    {
     "name": "stdout",
     "output_type": "stream",
     "text": [
      "{0, 1, 2, 3, 4, 5}\n"
     ]
    }
   ],
   "source": [
    "print({0, 1, 2, 3, 0, 1, 2, 3, 4, 5})\n"
   ]
  },
  {
   "cell_type": "code",
   "execution_count": 4,
   "metadata": {},
   "outputs": [],
   "source": [
    "a = set()\n",
    "b = set()\n",
    "a.add(frozenset(b))"
   ]
  },
  {
   "cell_type": "code",
   "execution_count": 9,
   "metadata": {},
   "outputs": [
    {
     "name": "stdout",
     "output_type": "stream",
     "text": [
      "[0, 1, 4, 2, 5, 9, 8, 6, 3, 7]\n",
      "[0, 0.5, 4, 2, 1, 9, 8, 6, 3, 7, 5]\n",
      "0\n",
      "0.5\n",
      "1\n",
      "[2, 3, 4, 6, 5, 9, 8, 7]\n"
     ]
    }
   ],
   "source": [
    "from heapq import heappush\n",
    "from heapq import heappop\n",
    "from random import shuffle\n",
    "data = list(range(10))\n",
    "shuffle(data)\n",
    "heap = []\n",
    "for n in data:\n",
    "    heappush(heap, n)\n",
    "\n",
    "print(heap)\n",
    "heappush(heap, 0.5)\n",
    "print(heap)\n",
    "\n",
    "print(heappop(heap))\n",
    "print(heappop(heap))\n",
    "print(heappop(heap))\n",
    "print(heap)"
   ]
  },
  {
   "cell_type": "code",
   "execution_count": 15,
   "metadata": {},
   "outputs": [
    {
     "name": "stdout",
     "output_type": "stream",
     "text": [
      "[0, 1, 5, 3, 2, 7, 9, 8, 4, 6]\n",
      "[0.5, 1, 5, 3, 2, 7, 9, 8, 4, 6]\n",
      "[1, 2, 5, 3, 6, 7, 9, 8, 4, 10]\n"
     ]
    }
   ],
   "source": [
    "from heapq import heapify\n",
    "from heapq import heapreplace\n",
    "heap = [5, 8, 0, 3, 6, 7, 9, 1, 4, 2]\n",
    "heapify(heap)\n",
    "print(heap)\n",
    "heapreplace(heap, 0.5)\n",
    "print(heap)\n",
    "heapreplace(heap, 10)\n",
    "print(heap)"
   ]
  },
  {
   "cell_type": "code",
   "execution_count": 18,
   "metadata": {},
   "outputs": [
    {
     "name": "stdout",
     "output_type": "stream",
     "text": [
      "deque([6, 0, 1, 2, 3, 4, 5])\n",
      "5\n",
      "6\n",
      "deque([2, 3, 4, 0, 1])\n",
      "deque([3, 4, 0, 1, 2])\n"
     ]
    }
   ],
   "source": [
    "from collections import deque\n",
    "q = deque(range(5))\n",
    "q.append(5)\n",
    "q.appendleft(6)\n",
    "print(q)\n",
    "print(q.pop())\n",
    "print(q.popleft())\n",
    "q.rotate(3)\n",
    "print(q)\n",
    "q.rotate(-1)\n",
    "print(q)"
   ]
  },
  {
   "cell_type": "code",
   "execution_count": 23,
   "metadata": {},
   "outputs": [
    {
     "name": "stdout",
     "output_type": "stream",
     "text": [
      "Wed Jul 17 22:23:43 2024\n",
      "Mon Jan 21 12:02:56 2008\n"
     ]
    }
   ],
   "source": [
    "import time\n",
    "print(time.asctime())\n",
    "print(time.asctime((2008, 1, 21, 12, 2, 56, 0, 21, 0)))"
   ]
  },
  {
   "cell_type": "code",
   "execution_count": 27,
   "metadata": {},
   "outputs": [
    {
     "name": "stdout",
     "output_type": "stream",
     "text": [
      "Sat Jun 25 17:47:02 2016\n"
     ]
    }
   ],
   "source": [
    "from random import *\n",
    "from time import *\n",
    "date1 = (2016, 1, 1, 0, 0, 0, -1, -1, -1)\n",
    "time1 = mktime(date1)\n",
    "date2 = (2017, 1, 1, 0, 0, 0, -1, -1, -1)\n",
    "time2 = mktime(date2)\n",
    "\n",
    "random_time = uniform(time1, time2)\n",
    "print(asctime(localtime(random_time)))"
   ]
  },
  {
   "cell_type": "code",
   "execution_count": 30,
   "metadata": {},
   "outputs": [
    {
     "name": "stdout",
     "output_type": "stream",
     "text": [
      "The result is 7\n"
     ]
    }
   ],
   "source": [
    "from random import randrange\n",
    "num = int(input('How many dice? '))\n",
    "sides = int(input('How many sides per die? '))\n",
    "sum = 0\n",
    "for i in range(num): \n",
    "    sum += randrange(sides) + 1\n",
    "print('The result is', sum)"
   ]
  },
  {
   "cell_type": "code",
   "execution_count": 35,
   "metadata": {},
   "outputs": [
    {
     "name": "stdout",
     "output_type": "stream",
     "text": [
      "['1 of diamonds',\n",
      " '1 of clubs',\n",
      " '1 of hearts',\n",
      " '1 of spades',\n",
      " '2 of diamonds',\n",
      " '2 of clubs',\n",
      " '2 of hearts',\n",
      " '2 of spades',\n",
      " '3 of diamonds',\n",
      " '3 of clubs',\n",
      " '3 of hearts',\n",
      " '3 of spades']\n",
      "------------------\n",
      "['King of spades',\n",
      " '5 of diamonds',\n",
      " '9 of spades',\n",
      " 'King of hearts',\n",
      " '3 of spades',\n",
      " '2 of spades',\n",
      " 'Jack of clubs',\n",
      " '10 of spades',\n",
      " '1 of hearts',\n",
      " '5 of clubs',\n",
      " '4 of diamonds',\n",
      " '6 of diamonds']\n"
     ]
    }
   ],
   "source": [
    "values = list(range(1, 11)) + 'Jack Queen King'.split()\n",
    "suits = 'diamonds clubs hearts spades'.split()\n",
    "deck = ['{} of {}'.format(v, s) for v in values for s in suits]\n",
    "\n",
    "from pprint import pprint\n",
    "pprint(deck[:12])\n",
    "\n",
    "print(\"------------------\")\n",
    "\n",
    "from random import shuffle\n",
    "shuffle(deck)\n",
    "pprint(deck[:12])"
   ]
  },
  {
   "cell_type": "code",
   "execution_count": 1,
   "metadata": {},
   "outputs": [],
   "source": [
    "values = list(range(1, 11)) + 'Jack Queen King'.split()\n",
    "suits = 'diamonds clubs hearts spades'.split()\n",
    "deck = ['{} of {}'.format(v, s) for v in values for s in suits]\n",
    "\n",
    "while deck: \n",
    "    input(deck.pop())"
   ]
  },
  {
   "cell_type": "code",
   "execution_count": 7,
   "metadata": {},
   "outputs": [
    {
     "name": "stdout",
     "output_type": "stream",
     "text": [
      "['a', 'b', 'c']\n",
      "['a', 'b', 'c', 'd']\n"
     ]
    }
   ],
   "source": [
    "import shelve\n",
    "s = shelve.open('test.dat')\n",
    "s['x'] = ['a', 'b', 'c']\n",
    "s['x'].append('d')\n",
    "print(s['x']) ## Ups where is d?\n",
    "s.close()\n",
    "\n",
    "## Corrected\n",
    "s = shelve.open('test1.dat')\n",
    "s['x'] = ['a', 'b', 'c']\n",
    "temp = s['x']\n",
    "temp.append('d')\n",
    "s['x'] = temp\n",
    "print(s['x'])\n",
    "s.close()\n"
   ]
  },
  {
   "cell_type": "code",
   "execution_count": 11,
   "metadata": {},
   "outputs": [
    {
     "name": "stdout",
     "output_type": "stream",
     "text": [
      "['alpha', 'beta', 'gamma', 'delta']\n",
      "['alpha', 'beta', 'gamma   delta']\n",
      "['alpha', 'beta,,,,gamma   delta']\n",
      "['Hm', 'Err', 'are', 'you', 'sure', 'he', 'said', 'sounding', 'insecure']\n",
      "['\"', '...', '--', '?\"', ',', '.']\n"
     ]
    }
   ],
   "source": [
    "import re\n",
    "some_text = 'alpha, beta,,,,gamma   delta'\n",
    "\n",
    "print(re.split('[, ]+', some_text))\n",
    "print(re.split('[, ]+', some_text, maxsplit=2))\n",
    "print(re.split('[, ]+', some_text, maxsplit=1))\n",
    "\n",
    "pat = '[a-zA-Z]+'\n",
    "text = '\"Hm... Err -- are you sure?\" he said, sounding insecure.'\n",
    "print(re.findall(pat, text))\n",
    "\n",
    "pat = r'[.?\\-\",]+'\n",
    "print(re.findall(pat, text))\n"
   ]
  }
 ],
 "metadata": {
  "kernelspec": {
   "display_name": ".venv",
   "language": "python",
   "name": "python3"
  },
  "language_info": {
   "codemirror_mode": {
    "name": "ipython",
    "version": 3
   },
   "file_extension": ".py",
   "mimetype": "text/x-python",
   "name": "python",
   "nbconvert_exporter": "python",
   "pygments_lexer": "ipython3",
   "version": "3.10.12"
  }
 },
 "nbformat": 4,
 "nbformat_minor": 2
}
