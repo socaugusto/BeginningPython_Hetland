{
 "cells": [
  {
   "cell_type": "code",
   "execution_count": 2,
   "metadata": {},
   "outputs": [
    {
     "data": {
      "text/plain": [
       "'42'"
      ]
     },
     "execution_count": 2,
     "metadata": {},
     "output_type": "execute_result"
    }
   ],
   "source": [
    "input(\"The meaning of life:\")"
   ]
  },
  {
   "cell_type": "code",
   "execution_count": 6,
   "metadata": {},
   "outputs": [
    {
     "name": "stdout",
     "output_type": "stream",
     "text": [
      "1428\n"
     ]
    }
   ],
   "source": [
    "x = input(\"x: \")\n",
    "x = int(x)\n",
    "y = input(\"y: \")\n",
    "y = int(y)\n",
    "print(x*y)\n"
   ]
  },
  {
   "cell_type": "code",
   "execution_count": 7,
   "metadata": {},
   "outputs": [
    {
     "name": "stdout",
     "output_type": "stream",
     "text": [
      "10\n",
      "0\n"
     ]
    }
   ],
   "source": [
    "print(abs(-10))\n",
    "print(round(1.0/2.0))\n"
   ]
  },
  {
   "cell_type": "code",
   "execution_count": 15,
   "metadata": {},
   "outputs": [
    {
     "name": "stdout",
     "output_type": "stream",
     "text": [
      "32\n",
      "32\n",
      "3.0\n"
     ]
    }
   ],
   "source": [
    "import math\n",
    "from math import sqrt\n",
    "print(math.floor(32.9))\n",
    "print(int(math.floor(32.9)))\n",
    "\n",
    "print(sqrt(9))"
   ]
  },
  {
   "cell_type": "code",
   "execution_count": 17,
   "metadata": {},
   "outputs": [
    {
     "name": "stdout",
     "output_type": "stream",
     "text": [
      "Hello, Silvio!\n"
     ]
    }
   ],
   "source": [
    "name = input(\"What is your name? \") # raw_input does not exist in python3\n",
    "print(\"Hello, \" + name + \"!\")"
   ]
  },
  {
   "cell_type": "code",
   "execution_count": 23,
   "metadata": {},
   "outputs": [
    {
     "name": "stdout",
     "output_type": "stream",
     "text": [
      "Let's say \"Hello, World!\"\n",
      "Hello, world!\n",
      "10000\n"
     ]
    }
   ],
   "source": [
    "# Concatenating strings\n",
    "print(\"Let's say \" '\"Hello, World!\"')\n",
    "\n",
    "x = \"Hello, \"\n",
    "y = \"world!\"\n",
    "\n",
    "print(x+y)\n",
    "\n",
    "print(repr(10000))"
   ]
  },
  {
   "cell_type": "markdown",
   "metadata": {},
   "source": [
    "### Python 2\n",
    "`print repr(10000L)`\n",
    "\n",
    "### Python 3 Equivalent:\n",
    "Remove the L suffix and use the print function:\n",
    "`print(repr(10000))`"
   ]
  },
  {
   "cell_type": "code",
   "execution_count": 26,
   "metadata": {},
   "outputs": [
    {
     "name": "stdout",
     "output_type": "stream",
     "text": [
      "The temperature is 42\n"
     ]
    }
   ],
   "source": [
    "temp = 42\n",
    "print(\"The temperature is \" + repr(temp))"
   ]
  },
  {
   "cell_type": "markdown",
   "metadata": {},
   "source": [
    "In Python 3, the backticks (`) lost their special meaning. In Python 2, backticks were used to represent string literals as well as for repr(). However, in Python 3, they are treated as syntax errors.\n",
    "\n",
    "Here's how backticks were used in Python 2:\n",
    "\n",
    "### Python 2\n",
    "```\n",
    "# String representation using backticks\n",
    "s = `hello`\n",
    "print(s)  # Output: 'hello'\n",
    "\n",
    "# Equivalent to repr() function\n",
    "r = `100`\n",
    "print(r)  # Output: '100'\n",
    "```\n",
    "\n",
    "In Python 3, attempting to use backticks for string representation or as an equivalent to repr() will result in a syntax error:\n",
    "\n",
    "### Python 3\n",
    "```\n",
    "# This will result in a SyntaxError in Python 3\n",
    "s = `hello`\n",
    "```\n",
    "\n",
    "### Summary:\n",
    "In Python 3, backticks lost their special meaning and are treated as syntax errors.\n",
    "To represent string literals, use single quotes (') or double quotes (\").\n",
    "To get the string representation of an object, use the repr() function."
   ]
  },
  {
   "cell_type": "code",
   "execution_count": 35,
   "metadata": {},
   "outputs": [
    {
     "name": "stdout",
     "output_type": "stream",
     "text": [
      "This is a very long string.\n",
      "It continues here.\n",
      "And it's not over yet.\n",
      "\"Hello, world!\"\n",
      "Still here. \n",
      "Hello, world!\n",
      "Hello, world! With two different lines\n",
      "c:\\windows\n",
      "Unicode String\n"
     ]
    }
   ],
   "source": [
    "print('''This is a very long string.\n",
    "It continues here.\n",
    "And it's not over yet.\n",
    "\"Hello, world!\"\n",
    "Still here. ''')\n",
    "\n",
    "# Escaping end of line\n",
    "print(\"Hello, \\\n",
    "world!\")\n",
    "\n",
    "print\\\n",
    "(\"Hello, world! With two different lines\")\n",
    "\n",
    "print(r\"c:\\windows\")\n",
    "\n",
    "print(u'Unicode String')\n"
   ]
  }
 ],
 "metadata": {
  "kernelspec": {
   "display_name": ".venv",
   "language": "python",
   "name": "python3"
  },
  "language_info": {
   "codemirror_mode": {
    "name": "ipython",
    "version": 3
   },
   "file_extension": ".py",
   "mimetype": "text/x-python",
   "name": "python",
   "nbconvert_exporter": "python",
   "pygments_lexer": "ipython3",
   "version": "3.10.12"
  }
 },
 "nbformat": 4,
 "nbformat_minor": 2
}
