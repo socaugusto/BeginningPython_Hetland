{
 "cells": [
  {
   "cell_type": "code",
   "execution_count": 3,
   "metadata": {},
   "outputs": [
    {
     "name": "stdout",
     "output_type": "stream",
     "text": [
      "tkinter is not installed. Please install it using your package manager.\n"
     ]
    }
   ],
   "source": [
    "try:\n",
    "    import tkinter\n",
    "except ImportError:\n",
    "    import sys\n",
    "    if hasattr(sys, 'get_ipython'):\n",
    "        from IPython.display import display, Markdown\n",
    "        display(Markdown(\"\"\"\n",
    "        `tkinter` is not installed. You can install it by running:\n",
    "        ```bash\n",
    "        sudo apt-get install python3-tk\n",
    "        ```\n",
    "        \"\"\"))\n",
    "    else:\n",
    "        print(\"tkinter is not installed. Please install it using your package manager.\")\n"
   ]
  },
  {
   "cell_type": "code",
   "execution_count": 5,
   "metadata": {},
   "outputs": [
    {
     "data": {
      "text/plain": [
       "0"
      ]
     },
     "execution_count": 5,
     "metadata": {},
     "output_type": "execute_result"
    }
   ],
   "source": [
    "import os\n",
    "os.system('python test_chapter12_gui.py')"
   ]
  }
 ],
 "metadata": {
  "kernelspec": {
   "display_name": ".venv",
   "language": "python",
   "name": "python3"
  },
  "language_info": {
   "codemirror_mode": {
    "name": "ipython",
    "version": 3
   },
   "file_extension": ".py",
   "mimetype": "text/x-python",
   "name": "python",
   "nbconvert_exporter": "python",
   "pygments_lexer": "ipython3",
   "version": "3.10.12"
  }
 },
 "nbformat": 4,
 "nbformat_minor": 2
}
