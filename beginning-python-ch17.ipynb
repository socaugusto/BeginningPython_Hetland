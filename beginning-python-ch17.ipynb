{
 "cells": [
  {
   "cell_type": "code",
   "execution_count": 2,
   "metadata": {},
   "outputs": [
    {
     "name": "stdout",
     "output_type": "stream",
     "text": [
      "1\n",
      "0\n"
     ]
    }
   ],
   "source": [
    "import _palindrome\n",
    "dir(_palindrome)\n",
    "\n",
    "print(_palindrome.is_palindrome('ipreferpi'))\n",
    "print(_palindrome.is_palindrome('notlob'))"
   ]
  },
  {
   "cell_type": "code",
   "execution_count": 3,
   "metadata": {},
   "outputs": [
    {
     "name": "stdout",
     "output_type": "stream",
     "text": [
      "Wow -- that never occurred to me ...\n"
     ]
    }
   ],
   "source": [
    "import palindrome\n",
    "from palindrome import is_palindrome\n",
    "if is_palindrome('abba'):\n",
    "    print('Wow -- that never occurred to me ...')"
   ]
  }
 ],
 "metadata": {
  "kernelspec": {
   "display_name": ".venv",
   "language": "python",
   "name": "python3"
  },
  "language_info": {
   "codemirror_mode": {
    "name": "ipython",
    "version": 3
   },
   "file_extension": ".py",
   "mimetype": "text/x-python",
   "name": "python",
   "nbconvert_exporter": "python",
   "pygments_lexer": "ipython3",
   "version": "3.10.12"
  }
 },
 "nbformat": 4,
 "nbformat_minor": 2
}
