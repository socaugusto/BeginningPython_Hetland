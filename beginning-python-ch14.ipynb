{
 "cells": [
  {
   "cell_type": "code",
   "execution_count": null,
   "metadata": {},
   "outputs": [],
   "source": [
    "import os\n",
    "\n",
    "os.system('python test_chapter14_server.py')"
   ]
  },
  {
   "cell_type": "code",
   "execution_count": null,
   "metadata": {},
   "outputs": [],
   "source": [
    "import os\n",
    "\n",
    "os.system('python test_chapter14_client.py')"
   ]
  },
  {
   "cell_type": "code",
   "execution_count": 1,
   "metadata": {},
   "outputs": [
    {
     "data": {
      "text/plain": [
       "b'/about/'"
      ]
     },
     "execution_count": 1,
     "metadata": {},
     "output_type": "execute_result"
    }
   ],
   "source": [
    "from urllib.request import urlopen\n",
    "import re\n",
    "\n",
    "webpage = urlopen('http://www.python.org')\n",
    "text = webpage.read()\n",
    "m = re.search(b'<a href=\"([^\"]+)\" .*?>about</a>', text, re.IGNORECASE)\n",
    "m.group(1)\n",
    "\n",
    "# urlretrieve('http://www.python.org', 'C:\\\\python_webpage.html')\n",
    "# urlcleanup\n"
   ]
  },
  {
   "cell_type": "code",
   "execution_count": null,
   "metadata": {},
   "outputs": [],
   "source": [
    "from socketserver import TCPServer, StreamRequestHandler\n",
    "\n",
    "class Handler(StreamRequestHandler):\n",
    "\n",
    "    def handle(self):\n",
    "        addr = self.request.getpeername()\n",
    "        print('Got connection from', addr)\n",
    "        self.wfile.write('Thank you for connecting')\n",
    "\n",
    "server = TCPServer(('', 1234), Handler)\n",
    "server.serve_forever()"
   ]
  },
  {
   "cell_type": "code",
   "execution_count": null,
   "metadata": {},
   "outputs": [],
   "source": [
    "# Forking, just works in Linux\n",
    "from socketserver import TCPServer, ForkingMixIn, StreamRequestHandler\n",
    "\n",
    "class Server(ForkingMixIn, TCPServer): pass\n",
    "\n",
    "class Handler(StreamRequestHandler):\n",
    "\n",
    "    def handle(self):\n",
    "        addr = self.request.getpeername()\n",
    "        print('Got connection from', addr)\n",
    "        self.wfile.write('Thank you for connecting')\n",
    "\n",
    "server = Server(('', 1234), Handler)\n",
    "server.serve_forever()"
   ]
  },
  {
   "cell_type": "code",
   "execution_count": null,
   "metadata": {},
   "outputs": [],
   "source": [
    "# Threading\n",
    "from socketserver import TCPServer, ThreadingMixIn, StreamRequestHandler\n",
    "\n",
    "class Server(ThreadingMixIn, TCPServer): pass\n",
    "\n",
    "class Handler(StreamRequestHandler):\n",
    "    def handle(self):\n",
    "        addr = self.request.getpeername()\n",
    "        print('Got connection from', addr)\n",
    "        self.wfile.write('Thank you for connecting')\n",
    "\n",
    "server = Server(('', 1234), Handler)\n",
    "server.serve_forever()"
   ]
  },
  {
   "cell_type": "code",
   "execution_count": null,
   "metadata": {},
   "outputs": [],
   "source": [
    "import socket, select\n",
    "\n",
    "s = socket.socket()\n",
    "\n",
    "host = socket.gethostname()\n",
    "port = 1234\n",
    "s.bind((host, port))\n",
    "\n",
    "s.listen(5)\n",
    "inputs = [s]\n",
    "while True:\n",
    "    rs, ws, es = select.select(inputs, [], [])\n",
    "    for r in rs:\n",
    "        if r is s:\n",
    "            c, addr = s.accept()\n",
    "            print('Got connection from', addr)\n",
    "            inputs.append(c)\n",
    "    else:\n",
    "        try:\n",
    "            data = r.recv(1024)\n",
    "            disconnected = not data\n",
    "        except socket.error:\n",
    "            disconnected = True\n",
    "    \n",
    "        if disconnected:\n",
    "            print(r.getpeername(), 'disconnected')\n",
    "            inputs.remove(r)\n",
    "        else:\n",
    "            print(data)"
   ]
  },
  {
   "cell_type": "code",
   "execution_count": null,
   "metadata": {},
   "outputs": [],
   "source": [
    "import socket, select\n",
    "\n",
    "s = socket.socket()\n",
    "\n",
    "host = socket.gethostname()\n",
    "port = 1234\n",
    "s.bind((host, port))\n",
    "\n",
    "fdmap = {s.fileno(): s}\n",
    "\n",
    "s.listen(5)\n",
    "p = select.poll()\n",
    "p.register(s)\n",
    "\n",
    "while True:\n",
    "    events = p.poll()\n",
    "    for fd, event in events:\n",
    "        if fd in fdmap:\n",
    "            c, addr = s.accept()\n",
    "            print('Got connection from', addr)\n",
    "            p.register(c)\n",
    "            fdmap[c.fileno()] = c\n",
    "        elif event & select.POLLIN:\n",
    "            data = fdmap[fd].recv(1024)\n",
    "            if not data: # No data -- connection closed\n",
    "                print(fdmap[fd].getpeername(), 'disconnected')\n",
    "                p.unregister(fd)\n",
    "                del fdmap[fd]\n",
    "            else:\n",
    "                print(data)"
   ]
  },
  {
   "cell_type": "code",
   "execution_count": null,
   "metadata": {},
   "outputs": [],
   "source": [
    "%pip install twisted"
   ]
  },
  {
   "cell_type": "code",
   "execution_count": null,
   "metadata": {},
   "outputs": [],
   "source": [
    "from twisted.internet import reactor\n",
    "from twisted.internet.protocol import Protocol, Factory\n",
    "\n",
    "class SimpleLogger(Protocol):\n",
    "\n",
    "    def connectionMade(self):\n",
    "        print('Got connection from', self.transport.client)\n",
    "    \n",
    "    def connectionLost(self, reason):\n",
    "        print(self.transport.client, 'disconnected')\n",
    "\n",
    "    def dataReceived(self, data):\n",
    "        print(data)\n",
    "\n",
    "factory = Factory()\n",
    "factory.protocol = SimpleLogger\n",
    "\n",
    "reactor.listenTCP(1234, factory)\n",
    "reactor.run()"
   ]
  },
  {
   "cell_type": "code",
   "execution_count": null,
   "metadata": {},
   "outputs": [],
   "source": [
    "from twisted.internet import reactor\n",
    "from twisted.internet.protocol import Factory\n",
    "from twisted.protocols.basic import LineReceiver\n",
    "\n",
    "class SimpleLogger(LineReceiver):\n",
    "\n",
    "    def connectionMade(self):\n",
    "        print('Got connection from', self.transport.client)\n",
    "    \n",
    "    def connectionLost(self, reason):\n",
    "        print(self.transport.client, 'disconnected')\n",
    "\n",
    "    def lineReceived(self, line):\n",
    "        print(line)\n",
    "\n",
    "factory = Factory()\n",
    "factory.protocol = SimpleLogger\n",
    "\n",
    "reactor.listenTCP(1234, factory)\n",
    "reactor.run()"
   ]
  }
 ],
 "metadata": {
  "kernelspec": {
   "display_name": ".venv",
   "language": "python",
   "name": "python3"
  },
  "language_info": {
   "codemirror_mode": {
    "name": "ipython",
    "version": 3
   },
   "file_extension": ".py",
   "mimetype": "text/x-python",
   "name": "python",
   "nbconvert_exporter": "python",
   "pygments_lexer": "ipython3",
   "version": "3.10.12"
  }
 },
 "nbformat": 4,
 "nbformat_minor": 2
}
